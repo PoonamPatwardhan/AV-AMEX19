{
 "cells": [
  {
   "cell_type": "code",
   "execution_count": 1,
   "metadata": {
    "scrolled": true
   },
   "outputs": [],
   "source": [
    "import pandas as pd\n",
    "import warnings\n",
    "warnings.filterwarnings('ignore')\n",
    "import numpy as np\n",
    "import matplotlib.pyplot as plt\n",
    "from sklearn.metrics import roc_auc_score\n",
    "import xgboost\n",
    "from sklearn.model_selection import GroupKFold, KFold\n",
    "import uuid\n",
    "import seaborn as sns"
   ]
  },
  {
   "cell_type": "code",
   "execution_count": 2,
   "metadata": {},
   "outputs": [],
   "source": [
    "train  = pd.read_pickle('Feat5_119_oct_1_feats_train_More_items_past.pkl')\n",
    "test = pd.read_pickle('Feat5_119_oct_1_feats_test_More_items_past.pkl')"
   ]
  },
  {
   "cell_type": "code",
   "execution_count": 3,
   "metadata": {},
   "outputs": [],
   "source": [
    "#train.drop(['age_range','marital_status','rented','family_size','no_of_children','income_bracket'], axis = 1, inplace=True)\n",
    "#test.drop(['age_range','marital_status','rented','family_size','no_of_children','income_bracket'], axis = 1, inplace=True)"
   ]
  },
  {
   "cell_type": "code",
   "execution_count": 4,
   "metadata": {},
   "outputs": [],
   "source": [
    "# train['duration'] = train['duration'].dt.days\n",
    "# test['duration'] = test['duration'].dt.days"
   ]
  },
  {
   "cell_type": "code",
   "execution_count": 5,
   "metadata": {},
   "outputs": [],
   "source": [
    "campaignData = pd.read_csv('campaign_data.csv')\n",
    "campaignData['start_date'] = pd.to_datetime(campaignData['start_date'], format= '%d/%m/%y')\n",
    "campaignData['end_date'] = pd.to_datetime(campaignData['end_date'], format= '%d/%m/%y')\n",
    "campaignData = campaignData.sort_values(by = 'start_date')\n",
    "testCamp = test.campaign_id.unique()\n",
    "trainCamp = train.campaign_id.unique()\n",
    "campaignData['TrainOrTest'] = campaignData['campaign_id'].apply(lambda x : 'Train' if x in trainCamp else 'Test')"
   ]
  },
  {
   "cell_type": "code",
   "execution_count": 6,
   "metadata": {
    "scrolled": true
   },
   "outputs": [
    {
     "name": "stdout",
     "output_type": "stream",
     "text": [
      "<class 'pandas.core.frame.DataFrame'>\n",
      "Int64Index: 78369 entries, 0 to 78368\n",
      "Data columns (total 132 columns):\n",
      "id                               78369 non-null int64\n",
      "campaign_id                      78369 non-null int64\n",
      "coupon_id                        78369 non-null int64\n",
      "customer_id                      78369 non-null int64\n",
      "redemption_status                78369 non-null int64\n",
      "item_id_nunique                  78369 non-null int64\n",
      "item_id_mode                     78369 non-null int64\n",
      "quantity_mean                    78369 non-null float64\n",
      "quantity_nunique                 78369 non-null int64\n",
      "quantity_mode                    78369 non-null int64\n",
      "quantity_std                     78369 non-null float64\n",
      "quantity_max_                    78369 non-null int64\n",
      "selling_price_mean               78369 non-null float64\n",
      "selling_price_max_               78369 non-null float64\n",
      "selling_price_min_               78369 non-null float64\n",
      "selling_price_std                78369 non-null float64\n",
      "other_discount_mean              78369 non-null float64\n",
      "other_discount_max_              78369 non-null float64\n",
      "other_discount_min_              78369 non-null float64\n",
      "other_discount_std               78369 non-null float64\n",
      "coupon_discount_mean             78369 non-null float64\n",
      "coupon_discount_max_             78369 non-null float64\n",
      "coupon_discount_min_             78369 non-null float64\n",
      "coupon_discount_std              78369 non-null float64\n",
      "brand_nunique                    78369 non-null int64\n",
      "brand_mode                       78369 non-null int64\n",
      "brand_type_nunique               78369 non-null int64\n",
      "brand_type_mode                  78369 non-null object\n",
      "brand_type_category_nunique      78369 non-null int64\n",
      "brand_type_category_mode         78369 non-null object\n",
      "total_disc_mean                  78369 non-null float64\n",
      "total_disc_max_                  78369 non-null float64\n",
      "total_disc_min_                  78369 non-null float64\n",
      "total_disc_std                   78369 non-null float64\n",
      "Total_Bill_mean                  78369 non-null float64\n",
      "Total_Bill_max_                  78369 non-null float64\n",
      "Total_Bill_min_                  78369 non-null float64\n",
      "Total_Bill_std                   78369 non-null float64\n",
      "dayofweek_nunique                78369 non-null int64\n",
      "dayofweek_mode                   78369 non-null int64\n",
      "month_nunique                    78369 non-null int64\n",
      "month_mode                       78369 non-null int64\n",
      "is_monthEnd_mean                 78369 non-null float64\n",
      "is_monthStart_mean               78369 non-null float64\n",
      "disc_perc_mean                   78369 non-null float64\n",
      "disc_perc_max_                   78369 non-null float64\n",
      "disc_perc_min_                   78369 non-null float64\n",
      "disc_perc_std                    78369 non-null float64\n",
      "is_coupoun_disc_mean             78369 non-null float64\n",
      "is_coupoun_disc_sum              78369 non-null int64\n",
      "brand_category_nunique           78369 non-null int64\n",
      "brand_category_mode              78369 non-null object\n",
      "dayofmonth_nunique               78369 non-null int64\n",
      "dayofmonth_mode                  78369 non-null int64\n",
      "prev_int_count                   78369 non-null int64\n",
      "itemPastSellingMean              11794 non-null float64\n",
      "itemPastSellingStd               7228 non-null float64\n",
      "itemPastSellingMax               11794 non-null float64\n",
      "itemPastSellingMin               11794 non-null float64\n",
      "itemPastOtherMean                11794 non-null float64\n",
      "itemPastOtherStd                 7228 non-null float64\n",
      "itemPastOtherMax                 11794 non-null float64\n",
      "itemPastOtherMin                 11794 non-null float64\n",
      "itemPastCouponMean               11794 non-null float64\n",
      "itemPastCouponStd                7228 non-null float64\n",
      "itemPastCouponMax                11794 non-null float64\n",
      "itemPastCouponMin                11794 non-null float64\n",
      "itemPastTotal_DiscMean           11794 non-null float64\n",
      "itemPastTotal_DiscStd            7228 non-null float64\n",
      "itemPastTotal_DiscMax            11794 non-null float64\n",
      "itemPastTotal_DiscMin            11794 non-null float64\n",
      "itemPastTotalBillMean            11794 non-null float64\n",
      "itemPastTotalBillStd             7228 non-null float64\n",
      "itemPastTotalBillMax             11794 non-null float64\n",
      "itemPastTotalBillMin             11794 non-null float64\n",
      "itemPastDiscPercMean             11794 non-null float64\n",
      "itemPastDiscPercStd              7228 non-null float64\n",
      "itemPastDiscPercMax              11794 non-null float64\n",
      "itemPastDiscPercMin              11794 non-null float64\n",
      "itemPastIsCouponDiscSum          78369 non-null int64\n",
      "itemPastIsCouponDiscMean         11794 non-null float64\n",
      "itemPastIsMonthEndSum            78369 non-null int64\n",
      "itemPastIsMonthEndMean           11794 non-null float64\n",
      "itemPastIsMonthStartSum          78369 non-null int64\n",
      "itemPastIsMonthStartMean         11794 non-null float64\n",
      "itemPastDayOfMonthMean           11794 non-null float64\n",
      "nUniqueCust                      78369 non-null int64\n",
      "CoupounSize                      78369 non-null int64\n",
      "CoupSellingPriceMean             77113 non-null float64\n",
      "CoupSellingPriceStd              75942 non-null float64\n",
      "CoupSellingPriceMin              77113 non-null float64\n",
      "CoupSellingPriceMax              77113 non-null float64\n",
      "CoupCouponDiscMean               77113 non-null float64\n",
      "CoupCouponDiscStd                75942 non-null float64\n",
      "CoupCouponDiscMax                77113 non-null float64\n",
      "CoupCouponDiscMin                77113 non-null float64\n",
      "CoupOtherDiscMean                77113 non-null float64\n",
      "CoupOtherDiscStd                 75942 non-null float64\n",
      "CoupOtherDiscMax                 77113 non-null float64\n",
      "CoupOtherDiscMin                 77113 non-null float64\n",
      "CoupBrandMode                    77113 non-null float64\n",
      "CoupBrandTypeMode                77113 non-null object\n",
      "CoupFav8DayofWeek                77113 non-null float64\n",
      "CoupBrandNunique                 78369 non-null int64\n",
      "CoupBrandTypeNunique             78369 non-null int64\n",
      "CoupQuantMean                    77113 non-null float64\n",
      "CoupQuantStd                     75942 non-null float64\n",
      "CoupQuantMax                     77113 non-null float64\n",
      "CoupQuantMin                     77113 non-null float64\n",
      "CoupTotalDiscMean                77113 non-null float64\n",
      "CoupTotalDiscStd                 75942 non-null float64\n",
      "CoupTotalDiscMax                 77113 non-null float64\n",
      "CoupTotalDiscMin                 77113 non-null float64\n",
      "CoupTotalBillMean                77113 non-null float64\n",
      "CoupTotalBillStd                 75942 non-null float64\n",
      "CoupTotalBillMax                 77113 non-null float64\n",
      "CoupTotalBillMin                 77113 non-null float64\n",
      "CoupIsMonthEndMean               77113 non-null float64\n",
      "CoupIsMonthStartMean             77113 non-null float64\n",
      "age_range                        43661 non-null object\n",
      "marital_status                   25394 non-null object\n",
      "rented                           43661 non-null float64\n",
      "family_size                      43661 non-null float64\n",
      "no_of_children                   14056 non-null float64\n",
      "income_bracket                   43661 non-null float64\n",
      "age_approximated                 43661 non-null float64\n",
      "income_bucket_div_age            43661 non-null float64\n",
      "income_div_family_size           43661 non-null float64\n",
      "income_bucket_div_no_of_child    14056 non-null float64\n",
      "family_to_number_of_child        14056 non-null float64\n",
      "campaign_type                    78369 non-null object\n",
      "duration                         78369 non-null int64\n",
      "dtypes: float64(94), int64(31), object(7)\n",
      "memory usage: 79.5+ MB\n"
     ]
    }
   ],
   "source": [
    "train.info(max_cols= 200)"
   ]
  },
  {
   "cell_type": "code",
   "execution_count": 7,
   "metadata": {},
   "outputs": [],
   "source": [
    "target = 'redemption_status'\n",
    "cat = ['campaign_type', 'brand_type_mode', 'brand_type_category_mode', 'brand_category_mode', \n",
    "      'CoupBrandTypeMode', 'age_range', 'marital_status']"
   ]
  },
  {
   "cell_type": "code",
   "execution_count": 8,
   "metadata": {},
   "outputs": [],
   "source": [
    "moreCat = [x for x in train.columns if ('mode' in x.lower())]"
   ]
  },
  {
   "cell_type": "code",
   "execution_count": 9,
   "metadata": {},
   "outputs": [],
   "source": [
    "cat = list(set(cat + moreCat))"
   ]
  },
  {
   "cell_type": "code",
   "execution_count": 10,
   "metadata": {},
   "outputs": [],
   "source": [
    "# All = train.append(test)"
   ]
  },
  {
   "cell_type": "code",
   "execution_count": 11,
   "metadata": {},
   "outputs": [],
   "source": [
    "# def one_hot_encoder(df, nan_as_category = False):\n",
    "#     original_columns = list(df.columns)\n",
    "#     categorical_columns = cat\n",
    "#     df = pd.get_dummies(df, columns= categorical_columns, dummy_na= nan_as_category)\n",
    "#     new_columns = [c for c in df.columns if c not in original_columns]\n",
    "#     return df, new_columns\n",
    "def display_importances(feature_importance_df_):\n",
    "    cols = feature_importance_df_[[\"feature\", \"importance\"]].groupby(\"feature\").mean().sort_values(by=\"importance\", ascending=False)[:40].index\n",
    "    best_features = feature_importance_df_.loc[feature_importance_df_.feature.isin(cols)]\n",
    "    plt.figure(figsize=(8, 10))\n",
    "    sns.barplot(x=\"importance\", y=\"feature\", data=best_features.sort_values(by=\"importance\", ascending=False))"
   ]
  },
  {
   "cell_type": "code",
   "execution_count": 12,
   "metadata": {},
   "outputs": [],
   "source": [
    "#All, newCols = one_hot_encoder(All, nan_as_category=True)"
   ]
  },
  {
   "cell_type": "code",
   "execution_count": 13,
   "metadata": {},
   "outputs": [],
   "source": [
    "# train = All[~All.redemption_status.isnull()]\n",
    "# test = All[All.redemption_status.isnull()]"
   ]
  },
  {
   "cell_type": "code",
   "execution_count": 14,
   "metadata": {},
   "outputs": [],
   "source": [
    "toDrop = [x for x in train.columns if train[x].nunique() == 1]"
   ]
  },
  {
   "cell_type": "code",
   "execution_count": 15,
   "metadata": {},
   "outputs": [],
   "source": [
    "moreToDrop = [x for x in train.columns if x.startswith('Coup')]\n",
    "#moreToDrop = []"
   ]
  },
  {
   "cell_type": "code",
   "execution_count": 16,
   "metadata": {},
   "outputs": [],
   "source": [
    "notTrainOn = ['id', 'campaign_id']\n",
    "trainOn = [x for x in train.columns if (x not in notTrainOn ) & (x not in toDrop) & (x!=target) & (x not in moreToDrop)]"
   ]
  },
  {
   "cell_type": "code",
   "execution_count": 17,
   "metadata": {},
   "outputs": [],
   "source": [
    "catIndex = [i for i,_ in enumerate(trainOn) if _ in cat]"
   ]
  },
  {
   "cell_type": "code",
   "execution_count": 18,
   "metadata": {},
   "outputs": [],
   "source": [
    "gkf = KFold(n_splits=5)"
   ]
  },
  {
   "cell_type": "code",
   "execution_count": 19,
   "metadata": {},
   "outputs": [],
   "source": [
    "catIndex = [i for i,x in enumerate(trainOn) if x in cat]"
   ]
  },
  {
   "cell_type": "code",
   "execution_count": 20,
   "metadata": {},
   "outputs": [],
   "source": [
    "#trainOn.remove('itemPastIsCouponDiscMean')"
   ]
  },
  {
   "cell_type": "code",
   "execution_count": null,
   "metadata": {},
   "outputs": [],
   "source": []
  },
  {
   "cell_type": "code",
   "execution_count": 21,
   "metadata": {},
   "outputs": [],
   "source": [
    "oof = np.zeros_like(train[target])\n",
    "oot = np.zeros_like(test['id']).astype('float')\n",
    "feature_importance_df = pd.DataFrame()\n",
    "oof = np.zeros_like(train[target])\n",
    "oot = np.zeros_like(test['id']).astype('float')\n",
    "feature_importance_df = pd.DataFrame()\n",
    "oof = oof.astype('float')"
   ]
  },
  {
   "cell_type": "code",
   "execution_count": 22,
   "metadata": {},
   "outputs": [],
   "source": [
    "def getResultSummary(res):\n",
    "    trainMean = np.mean(list(map(lambda x : x[0], res)))\n",
    "    validMean = np.mean(list(map(lambda x : x[1], res)))\n",
    "    trainStd = np.std(list(map(lambda x : x[0], res)))\n",
    "    validStd = np.std(list(map(lambda x : x[1], res)))\n",
    "    return {\n",
    "        \n",
    "        'Train Mean' : trainMean, \n",
    "        'Valid Mean' : validMean, \n",
    "        'Train Std'  : trainStd,\n",
    "        'Valid Std'  : validStd\n",
    "    }"
   ]
  },
  {
   "cell_type": "code",
   "execution_count": 23,
   "metadata": {},
   "outputs": [],
   "source": [
    "import catboost as cbg"
   ]
  },
  {
   "cell_type": "code",
   "execution_count": 24,
   "metadata": {},
   "outputs": [],
   "source": [
    "import lightgbm as lgb"
   ]
  },
  {
   "cell_type": "code",
   "execution_count": 25,
   "metadata": {},
   "outputs": [],
   "source": [
    "for x in cat:\n",
    "    train[cat] = train[cat].astype('str')\n",
    "    test[cat] = test[cat].astype('str')"
   ]
  },
  {
   "cell_type": "code",
   "execution_count": 26,
   "metadata": {
    "scrolled": false
   },
   "outputs": [
    {
     "name": "stdout",
     "output_type": "stream",
     "text": [
      "0:\ttest: 0.8683905\ttest1: 0.8452891\tbest: 0.8452891 (0)\ttotal: 214ms\tremaining: 8m 55s\n",
      "100:\ttest: 0.9412697\ttest1: 0.9382541\tbest: 0.9383945 (97)\ttotal: 6.63s\tremaining: 2m 37s\n",
      "200:\ttest: 0.9495828\ttest1: 0.9428248\tbest: 0.9428248 (200)\ttotal: 13.3s\tremaining: 2m 31s\n",
      "300:\ttest: 0.9540721\ttest1: 0.9451143\tbest: 0.9452569 (280)\ttotal: 20s\tremaining: 2m 25s\n",
      "400:\ttest: 0.9579005\ttest1: 0.9477284\tbest: 0.9477284 (400)\ttotal: 30.4s\tremaining: 2m 39s\n",
      "500:\ttest: 0.9617883\ttest1: 0.9506211\tbest: 0.9506318 (499)\ttotal: 44.1s\tremaining: 2m 55s\n",
      "600:\ttest: 0.9647948\ttest1: 0.9527496\tbest: 0.9527496 (600)\ttotal: 53.6s\tremaining: 2m 49s\n",
      "700:\ttest: 0.9679342\ttest1: 0.9546044\tbest: 0.9546599 (697)\ttotal: 1m 1s\tremaining: 2m 38s\n",
      "800:\ttest: 0.9708058\ttest1: 0.9557246\tbest: 0.9557304 (799)\ttotal: 1m 10s\tremaining: 2m 28s\n",
      "900:\ttest: 0.9730925\ttest1: 0.9566940\tbest: 0.9567177 (887)\ttotal: 1m 22s\tremaining: 2m 25s\n",
      "1000:\ttest: 0.9754865\ttest1: 0.9583298\tbest: 0.9583628 (999)\ttotal: 1m 29s\tremaining: 2m 14s\n",
      "1100:\ttest: 0.9774527\ttest1: 0.9588784\tbest: 0.9588784 (1100)\ttotal: 1m 37s\tremaining: 2m 4s\n",
      "1200:\ttest: 0.9793218\ttest1: 0.9595465\tbest: 0.9596006 (1188)\ttotal: 1m 46s\tremaining: 1m 55s\n",
      "1300:\ttest: 0.9810459\ttest1: 0.9603979\tbest: 0.9604140 (1299)\ttotal: 1m 54s\tremaining: 1m 45s\n",
      "1400:\ttest: 0.9826977\ttest1: 0.9607959\tbest: 0.9608768 (1392)\ttotal: 2m 1s\tremaining: 1m 35s\n",
      "1500:\ttest: 0.9840984\ttest1: 0.9611017\tbest: 0.9611281 (1496)\ttotal: 2m 9s\tremaining: 1m 26s\n",
      "1600:\ttest: 0.9853478\ttest1: 0.9618024\tbest: 0.9618024 (1600)\ttotal: 2m 17s\tremaining: 1m 16s\n",
      "1700:\ttest: 0.9865579\ttest1: 0.9620640\tbest: 0.9621414 (1661)\ttotal: 2m 24s\tremaining: 1m 7s\n",
      "1800:\ttest: 0.9877401\ttest1: 0.9626739\tbest: 0.9626945 (1799)\ttotal: 2m 32s\tremaining: 59.2s\n",
      "1900:\ttest: 0.9887804\ttest1: 0.9630062\tbest: 0.9630433 (1881)\ttotal: 2m 40s\tremaining: 50.4s\n",
      "2000:\ttest: 0.9900461\ttest1: 0.9633577\tbest: 0.9634113 (1995)\ttotal: 2m 49s\tremaining: 42.4s\n",
      "2100:\ttest: 0.9909982\ttest1: 0.9635795\tbest: 0.9636152 (2097)\ttotal: 3m 3s\tremaining: 34.8s\n",
      "2200:\ttest: 0.9919672\ttest1: 0.9641661\tbest: 0.9641661 (2200)\ttotal: 3m 12s\tremaining: 26.2s\n",
      "2300:\ttest: 0.9928192\ttest1: 0.9641304\tbest: 0.9643280 (2208)\ttotal: 3m 20s\tremaining: 17.4s\n",
      "2400:\ttest: 0.9936274\ttest1: 0.9641295\tbest: 0.9644179 (2367)\ttotal: 3m 29s\tremaining: 8.63s\n",
      "2499:\ttest: 0.9942875\ttest1: 0.9642949\tbest: 0.9644179 (2367)\ttotal: 3m 37s\tremaining: 0us\n",
      "\n",
      "bestTest = 0.964417883\n",
      "bestIteration = 2367\n",
      "\n",
      "Shrink model to first 2368 iterations.\n",
      "0:\ttest: 0.8697951\ttest1: 0.8285177\tbest: 0.8285177 (0)\ttotal: 90.5ms\tremaining: 3m 46s\n",
      "100:\ttest: 0.9483874\ttest1: 0.9092901\tbest: 0.9093087 (39)\ttotal: 8.73s\tremaining: 3m 27s\n",
      "200:\ttest: 0.9560762\ttest1: 0.9166963\tbest: 0.9168802 (198)\ttotal: 17.1s\tremaining: 3m 15s\n",
      "300:\ttest: 0.9608996\ttest1: 0.9198191\tbest: 0.9198729 (293)\ttotal: 25.5s\tremaining: 3m 6s\n",
      "400:\ttest: 0.9647670\ttest1: 0.9209689\tbest: 0.9210036 (390)\ttotal: 34.2s\tremaining: 2m 58s\n",
      "500:\ttest: 0.9680677\ttest1: 0.9223976\tbest: 0.9225087 (498)\ttotal: 43.5s\tremaining: 2m 53s\n",
      "600:\ttest: 0.9709751\ttest1: 0.9249988\tbest: 0.9249988 (600)\ttotal: 52s\tremaining: 2m 44s\n",
      "700:\ttest: 0.9734746\ttest1: 0.9263682\tbest: 0.9263682 (700)\ttotal: 60s\tremaining: 2m 33s\n",
      "800:\ttest: 0.9757556\ttest1: 0.9273803\tbest: 0.9273899 (793)\ttotal: 1m 7s\tremaining: 2m 24s\n",
      "900:\ttest: 0.9782195\ttest1: 0.9282377\tbest: 0.9282402 (896)\ttotal: 1m 16s\tremaining: 2m 15s\n",
      "1000:\ttest: 0.9799825\ttest1: 0.9293508\tbest: 0.9293548 (999)\ttotal: 1m 24s\tremaining: 2m 7s\n",
      "1100:\ttest: 0.9815284\ttest1: 0.9302966\tbest: 0.9304453 (1086)\ttotal: 1m 32s\tremaining: 1m 57s\n",
      "1200:\ttest: 0.9833492\ttest1: 0.9309318\tbest: 0.9309805 (1187)\ttotal: 1m 39s\tremaining: 1m 48s\n",
      "1300:\ttest: 0.9847005\ttest1: 0.9319117\tbest: 0.9319117 (1300)\ttotal: 1m 47s\tremaining: 1m 39s\n",
      "1400:\ttest: 0.9858466\ttest1: 0.9318459\tbest: 0.9322077 (1354)\ttotal: 1m 55s\tremaining: 1m 30s\n",
      "1500:\ttest: 0.9871276\ttest1: 0.9330173\tbest: 0.9330585 (1499)\ttotal: 2m 2s\tremaining: 1m 21s\n",
      "1600:\ttest: 0.9882386\ttest1: 0.9336490\tbest: 0.9336490 (1600)\ttotal: 2m 10s\tremaining: 1m 13s\n",
      "1700:\ttest: 0.9893291\ttest1: 0.9339882\tbest: 0.9339882 (1700)\ttotal: 2m 20s\tremaining: 1m 6s\n",
      "1800:\ttest: 0.9903234\ttest1: 0.9343345\tbest: 0.9343817 (1793)\ttotal: 2m 29s\tremaining: 58.2s\n",
      "1900:\ttest: 0.9913554\ttest1: 0.9345848\tbest: 0.9348149 (1868)\ttotal: 2m 38s\tremaining: 50s\n",
      "2000:\ttest: 0.9921370\ttest1: 0.9349184\tbest: 0.9349702 (1998)\ttotal: 2m 47s\tremaining: 41.7s\n",
      "2100:\ttest: 0.9929509\ttest1: 0.9350556\tbest: 0.9351873 (2097)\ttotal: 2m 55s\tremaining: 33.3s\n",
      "2200:\ttest: 0.9936251\ttest1: 0.9343270\tbest: 0.9351873 (2097)\ttotal: 3m 3s\tremaining: 24.9s\n",
      "2300:\ttest: 0.9941598\ttest1: 0.9342320\tbest: 0.9351873 (2097)\ttotal: 3m 11s\tremaining: 16.6s\n",
      "2400:\ttest: 0.9947138\ttest1: 0.9345968\tbest: 0.9351873 (2097)\ttotal: 3m 20s\tremaining: 8.25s\n",
      "Stopped by overfitting detector  (400 iterations wait)\n",
      "\n",
      "bestTest = 0.935187307\n",
      "bestIteration = 2097\n",
      "\n",
      "Shrink model to first 2098 iterations.\n",
      "0:\ttest: 0.8546398\ttest1: 0.8106086\tbest: 0.8106086 (0)\ttotal: 74.3ms\tremaining: 3m 5s\n",
      "100:\ttest: 0.9424057\ttest1: 0.9265527\tbest: 0.9265527 (100)\ttotal: 8.06s\tremaining: 3m 11s\n",
      "200:\ttest: 0.9503656\ttest1: 0.9308476\tbest: 0.9309797 (191)\ttotal: 15.8s\tremaining: 3m\n",
      "300:\ttest: 0.9556723\ttest1: 0.9328687\tbest: 0.9329981 (279)\ttotal: 25s\tremaining: 3m 2s\n",
      "400:\ttest: 0.9597016\ttest1: 0.9355813\tbest: 0.9355813 (400)\ttotal: 33.9s\tremaining: 2m 57s\n",
      "500:\ttest: 0.9635588\ttest1: 0.9373810\tbest: 0.9375126 (494)\ttotal: 42.3s\tremaining: 2m 48s\n",
      "600:\ttest: 0.9660240\ttest1: 0.9386765\tbest: 0.9386853 (598)\ttotal: 53.1s\tremaining: 2m 47s\n",
      "700:\ttest: 0.9687216\ttest1: 0.9402317\tbest: 0.9402317 (700)\ttotal: 1m 10s\tremaining: 3m\n",
      "800:\ttest: 0.9709858\ttest1: 0.9415423\tbest: 0.9415460 (799)\ttotal: 1m 22s\tremaining: 2m 54s\n",
      "900:\ttest: 0.9731080\ttest1: 0.9423357\tbest: 0.9424885 (897)\ttotal: 1m 31s\tremaining: 2m 41s\n",
      "1000:\ttest: 0.9754731\ttest1: 0.9432951\tbest: 0.9433809 (991)\ttotal: 1m 40s\tremaining: 2m 30s\n",
      "1100:\ttest: 0.9772959\ttest1: 0.9443000\tbest: 0.9443000 (1100)\ttotal: 1m 49s\tremaining: 2m 19s\n",
      "1200:\ttest: 0.9789345\ttest1: 0.9452917\tbest: 0.9453031 (1199)\ttotal: 1m 57s\tremaining: 2m 7s\n",
      "1300:\ttest: 0.9803367\ttest1: 0.9451989\tbest: 0.9454996 (1221)\ttotal: 2m 5s\tremaining: 1m 56s\n",
      "1400:\ttest: 0.9819189\ttest1: 0.9455355\tbest: 0.9458046 (1365)\ttotal: 2m 13s\tremaining: 1m 44s\n",
      "1500:\ttest: 0.9834394\ttest1: 0.9456396\tbest: 0.9459747 (1490)\ttotal: 2m 21s\tremaining: 1m 34s\n",
      "1600:\ttest: 0.9849059\ttest1: 0.9457771\tbest: 0.9460645 (1542)\ttotal: 2m 28s\tremaining: 1m 23s\n",
      "1700:\ttest: 0.9860353\ttest1: 0.9462416\tbest: 0.9463860 (1685)\ttotal: 2m 36s\tremaining: 1m 13s\n",
      "1800:\ttest: 0.9872850\ttest1: 0.9470115\tbest: 0.9470537 (1799)\ttotal: 2m 44s\tremaining: 1m 3s\n",
      "1900:\ttest: 0.9881763\ttest1: 0.9467241\tbest: 0.9472454 (1840)\ttotal: 2m 52s\tremaining: 54.3s\n",
      "2000:\ttest: 0.9891087\ttest1: 0.9473389\tbest: 0.9473627 (1997)\ttotal: 2m 59s\tremaining: 44.9s\n",
      "2100:\ttest: 0.9900178\ttest1: 0.9474599\tbest: 0.9475123 (2063)\ttotal: 3m 8s\tremaining: 35.8s\n",
      "2200:\ttest: 0.9911065\ttest1: 0.9471442\tbest: 0.9475816 (2139)\ttotal: 3m 19s\tremaining: 27.1s\n",
      "2300:\ttest: 0.9919165\ttest1: 0.9469807\tbest: 0.9475816 (2139)\ttotal: 3m 29s\tremaining: 18.1s\n",
      "2400:\ttest: 0.9925926\ttest1: 0.9470302\tbest: 0.9475816 (2139)\ttotal: 3m 37s\tremaining: 8.99s\n",
      "2499:\ttest: 0.9932081\ttest1: 0.9478140\tbest: 0.9478147 (2498)\ttotal: 3m 46s\tremaining: 0us\n",
      "\n",
      "bestTest = 0.9478147474\n",
      "bestIteration = 2498\n",
      "\n",
      "Shrink model to first 2499 iterations.\n",
      "0:\ttest: 0.8605097\ttest1: 0.8771496\tbest: 0.8771496 (0)\ttotal: 76.3ms\tremaining: 3m 10s\n",
      "100:\ttest: 0.9422902\ttest1: 0.9388965\tbest: 0.9388965 (100)\ttotal: 7.32s\tremaining: 2m 53s\n",
      "200:\ttest: 0.9504674\ttest1: 0.9449016\tbest: 0.9450081 (193)\ttotal: 14.9s\tremaining: 2m 50s\n",
      "300:\ttest: 0.9556431\ttest1: 0.9487167\tbest: 0.9487167 (300)\ttotal: 22.8s\tremaining: 2m 46s\n",
      "400:\ttest: 0.9592180\ttest1: 0.9502397\tbest: 0.9502397 (400)\ttotal: 32.5s\tremaining: 2m 50s\n",
      "500:\ttest: 0.9629757\ttest1: 0.9524027\tbest: 0.9524077 (499)\ttotal: 40s\tremaining: 2m 39s\n",
      "600:\ttest: 0.9663983\ttest1: 0.9531567\tbest: 0.9532002 (596)\ttotal: 48.1s\tremaining: 2m 31s\n",
      "700:\ttest: 0.9697602\ttest1: 0.9539488\tbest: 0.9540086 (692)\ttotal: 57.8s\tremaining: 2m 28s\n",
      "800:\ttest: 0.9725901\ttest1: 0.9545790\tbest: 0.9547409 (766)\ttotal: 1m 7s\tremaining: 2m 22s\n"
     ]
    },
    {
     "name": "stdout",
     "output_type": "stream",
     "text": [
      "900:\ttest: 0.9747148\ttest1: 0.9551335\tbest: 0.9551784 (891)\ttotal: 1m 16s\tremaining: 2m 15s\n",
      "1000:\ttest: 0.9768237\ttest1: 0.9552333\tbest: 0.9554908 (995)\ttotal: 1m 24s\tremaining: 2m 6s\n",
      "1100:\ttest: 0.9787561\ttest1: 0.9564398\tbest: 0.9565037 (1099)\ttotal: 1m 33s\tremaining: 1m 58s\n",
      "1200:\ttest: 0.9806769\ttest1: 0.9567961\tbest: 0.9568306 (1198)\ttotal: 1m 41s\tremaining: 1m 49s\n",
      "1300:\ttest: 0.9822696\ttest1: 0.9574427\tbest: 0.9574667 (1296)\ttotal: 1m 48s\tremaining: 1m 40s\n",
      "1400:\ttest: 0.9841515\ttest1: 0.9570949\tbest: 0.9577338 (1311)\ttotal: 1m 56s\tremaining: 1m 31s\n",
      "1500:\ttest: 0.9854797\ttest1: 0.9567553\tbest: 0.9577338 (1311)\ttotal: 2m 4s\tremaining: 1m 22s\n",
      "1600:\ttest: 0.9865963\ttest1: 0.9567458\tbest: 0.9577338 (1311)\ttotal: 2m 11s\tremaining: 1m 14s\n",
      "1700:\ttest: 0.9876271\ttest1: 0.9569757\tbest: 0.9577338 (1311)\ttotal: 2m 19s\tremaining: 1m 5s\n",
      "Stopped by overfitting detector  (400 iterations wait)\n",
      "\n",
      "bestTest = 0.9577337836\n",
      "bestIteration = 1311\n",
      "\n",
      "Shrink model to first 1312 iterations.\n",
      "0:\ttest: 0.9052753\ttest1: 0.9151288\tbest: 0.9151288 (0)\ttotal: 74.3ms\tremaining: 3m 5s\n",
      "100:\ttest: 0.9416267\ttest1: 0.9451088\tbest: 0.9451405 (94)\ttotal: 7.23s\tremaining: 2m 51s\n",
      "200:\ttest: 0.9500658\ttest1: 0.9472035\tbest: 0.9472035 (200)\ttotal: 14.8s\tremaining: 2m 49s\n",
      "300:\ttest: 0.9549120\ttest1: 0.9494289\tbest: 0.9494451 (299)\ttotal: 24.2s\tremaining: 2m 56s\n",
      "400:\ttest: 0.9595272\ttest1: 0.9506620\tbest: 0.9506833 (398)\ttotal: 31.6s\tremaining: 2m 45s\n",
      "500:\ttest: 0.9636738\ttest1: 0.9519504\tbest: 0.9519657 (497)\ttotal: 39.8s\tremaining: 2m 38s\n",
      "600:\ttest: 0.9672935\ttest1: 0.9531804\tbest: 0.9531804 (600)\ttotal: 48.6s\tremaining: 2m 33s\n",
      "700:\ttest: 0.9701250\ttest1: 0.9540706\tbest: 0.9540835 (690)\ttotal: 58.4s\tremaining: 2m 29s\n",
      "800:\ttest: 0.9729096\ttest1: 0.9543160\tbest: 0.9543823 (791)\ttotal: 1m 8s\tremaining: 2m 26s\n",
      "900:\ttest: 0.9752090\ttest1: 0.9547986\tbest: 0.9548167 (879)\ttotal: 1m 17s\tremaining: 2m 18s\n",
      "1000:\ttest: 0.9773121\ttest1: 0.9554878\tbest: 0.9555429 (998)\ttotal: 1m 27s\tremaining: 2m 11s\n",
      "1100:\ttest: 0.9794279\ttest1: 0.9556948\tbest: 0.9558379 (1051)\ttotal: 1m 37s\tremaining: 2m 4s\n",
      "1200:\ttest: 0.9810343\ttest1: 0.9558578\tbest: 0.9559166 (1177)\ttotal: 1m 45s\tremaining: 1m 54s\n",
      "1300:\ttest: 0.9828666\ttest1: 0.9565692\tbest: 0.9565881 (1297)\ttotal: 1m 53s\tremaining: 1m 44s\n",
      "1400:\ttest: 0.9844259\ttest1: 0.9573083\tbest: 0.9573273 (1399)\ttotal: 2m 1s\tremaining: 1m 35s\n",
      "1500:\ttest: 0.9856015\ttest1: 0.9573268\tbest: 0.9574255 (1473)\ttotal: 2m 10s\tremaining: 1m 27s\n",
      "1600:\ttest: 0.9866628\ttest1: 0.9569156\tbest: 0.9574255 (1473)\ttotal: 2m 22s\tremaining: 1m 20s\n",
      "1700:\ttest: 0.9877381\ttest1: 0.9566099\tbest: 0.9574255 (1473)\ttotal: 2m 31s\tremaining: 1m 11s\n",
      "1800:\ttest: 0.9888080\ttest1: 0.9568406\tbest: 0.9574255 (1473)\ttotal: 2m 41s\tremaining: 1m 2s\n",
      "Stopped by overfitting detector  (400 iterations wait)\n",
      "\n",
      "bestTest = 0.9574254849\n",
      "bestIteration = 1473\n",
      "\n",
      "Shrink model to first 1474 iterations.\n"
     ]
    }
   ],
   "source": [
    "results = []\n",
    "featureImp = []\n",
    "i = 0\n",
    "for train_index, test_index in gkf.split(train[trainOn], train[target]):\n",
    "    train_X = train.iloc[train_index][trainOn]\n",
    "    valid_X = train.iloc[test_index][trainOn]\n",
    "    train_y = train.iloc[train_index][target]\n",
    "    valid_y = train.iloc[test_index][target]\n",
    "    model = cbg.CatBoostClassifier(iterations=2500, eval_metric='AUC', random_state=1234567884, od_wait=400, colsample_bylevel=0.6, learning_rate=0.03)\n",
    "    model.fit(train_X, train_y,  eval_set= [(train_X, train_y), \n",
    "                                        (valid_X, valid_y)],\n",
    "                            verbose = 100, cat_features = catIndex)\n",
    "    valid_pred = model.predict_proba(valid_X)[:,1]\n",
    "    train_pred = model.predict_proba(train_X)[:,1]\n",
    "    trainRes = roc_auc_score(train_y, train_pred)\n",
    "    validRes = roc_auc_score(valid_y, valid_pred)\n",
    "    oof[test_index] = valid_pred\n",
    "    ootPred = model.predict_proba(test[trainOn])[:,1]\n",
    "    oot += ootPred / 5\n",
    "    results.append((trainRes, validRes))\n",
    "    fold_importance_df = pd.DataFrame()\n",
    "    fold_importance_df[\"feature\"] = trainOn\n",
    "    fold_importance_df[\"importance\"] = model.feature_importances_\n",
    "    fold_importance_df[\"fold\"] = i + 1\n",
    "    feature_importance_df = pd.concat([feature_importance_df, fold_importance_df], axis=0)\n",
    "    i+=1"
   ]
  },
  {
   "cell_type": "code",
   "execution_count": 27,
   "metadata": {
    "scrolled": true
   },
   "outputs": [
    {
     "data": {
      "text/plain": [
       "{'Train Mean': 0.9894723897277611,\n",
       " 'Valid Mean': 0.9525158411595493,\n",
       " 'Train Std': 0.004618977335332208,\n",
       " 'Valid Std': 0.0101525218702882}"
      ]
     },
     "execution_count": 27,
     "metadata": {},
     "output_type": "execute_result"
    }
   ],
   "source": [
    "getResultSummary(results)"
   ]
  },
  {
   "cell_type": "code",
   "execution_count": 28,
   "metadata": {},
   "outputs": [
    {
     "data": {
      "text/plain": [
       "[(0.9933520896892334, 0.9644178829505616),\n",
       " (0.9929332893229829, 0.935187307024315),\n",
       " (0.9932063372560413, 0.9478147473574302),\n",
       " (0.9824553020736861, 0.9577337835926193),\n",
       " (0.9854149302968626, 0.9574254848728202)]"
      ]
     },
     "execution_count": 28,
     "metadata": {},
     "output_type": "execute_result"
    }
   ],
   "source": [
    "results"
   ]
  },
  {
   "cell_type": "code",
   "execution_count": 29,
   "metadata": {
    "scrolled": true
   },
   "outputs": [
    {
     "data": {
      "image/png": "[encoded data removed]",
      "text/plain": [
       "<Figure size 576x720 with 1 Axes>"
      ]
     },
     "metadata": {
      "needs_background": "light"
     },
     "output_type": "display_data"
    }
   ],
   "source": [
    "display_importances(feature_importance_df)"
   ]
  },
  {
   "cell_type": "code",
   "execution_count": 30,
   "metadata": {},
   "outputs": [],
   "source": [
    "def saveStackingFile(prefix):\n",
    "    oof_ = pd.DataFrame(oof,columns = [prefix])\n",
    "    oot_ = pd.DataFrame(oot,columns = [prefix])\n",
    "    print(oof_.shape, oot_.shape)\n",
    "    oof_.to_csv(prefix + '_train.csv', index = False)\n",
    "    oot_.to_csv(prefix + '_test.csv', index = False)"
   ]
  },
  {
   "cell_type": "code",
   "execution_count": 31,
   "metadata": {},
   "outputs": [
    {
     "name": "stdout",
     "output_type": "stream",
     "text": [
      "(78369, 1) (50226, 1)\n"
     ]
    }
   ],
   "source": [
    "saveStackingFile('CGB_Feat5_Extra_Past_Item_5_Fold')"
   ]
  },
  {
   "cell_type": "code",
   "execution_count": null,
   "metadata": {},
   "outputs": [],
   "source": [
    "test[target] = oot"
   ]
  },
  {
   "cell_type": "code",
   "execution_count": null,
   "metadata": {},
   "outputs": [],
   "source": [
    "fileName = str(uuid.uuid4()).split('-')[-1]"
   ]
  },
  {
   "cell_type": "code",
   "execution_count": 121,
   "metadata": {},
   "outputs": [],
   "source": [
    "test[['id', target]].to_csv(fileName + '.csv', index = False)"
   ]
  },
  {
   "cell_type": "code",
   "execution_count": null,
   "metadata": {},
   "outputs": [],
   "source": []
  },
  {
   "cell_type": "code",
   "execution_count": null,
   "metadata": {},
   "outputs": [],
   "source": []
  }
 ],
 "metadata": {
  "kernelspec": {
   "display_name": "Python 3",
   "language": "python",
   "name": "python3"
  },
  "language_info": {
   "codemirror_mode": {
    "name": "ipython",
    "version": 3
   },
   "file_extension": ".py",
   "mimetype": "text/x-python",
   "name": "python",
   "nbconvert_exporter": "python",
   "pygments_lexer": "ipython3",
   "version": "3.7.3"
  }
 },
 "nbformat": 4,
 "nbformat_minor": 2
}
