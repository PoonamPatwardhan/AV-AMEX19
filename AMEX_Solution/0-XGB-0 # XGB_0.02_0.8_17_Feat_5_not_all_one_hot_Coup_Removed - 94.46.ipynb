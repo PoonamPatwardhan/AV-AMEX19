{
 "cells": [
  {
   "cell_type": "code",
   "execution_count": 1,
   "metadata": {
    "scrolled": true
   },
   "outputs": [],
   "source": [
    "import pandas as pd\n",
    "import warnings\n",
    "warnings.filterwarnings('ignore')\n",
    "import numpy as np\n",
    "import matplotlib.pyplot as plt\n",
    "from sklearn.metrics import roc_auc_score\n",
    "import xgboost\n",
    "from sklearn.model_selection import GroupKFold, KFold\n",
    "import uuid\n",
    "import seaborn as sns"
   ]
  },
  {
   "cell_type": "code",
   "execution_count": 2,
   "metadata": {},
   "outputs": [],
   "source": [
    "train  = pd.read_pickle('Feat5_119_oct_1_feats_train.pkl')\n",
    "test = pd.read_pickle('Feat5_119_oct_1_feats_test.pkl')"
   ]
  },
  {
   "cell_type": "code",
   "execution_count": 3,
   "metadata": {},
   "outputs": [],
   "source": [
    "#train.drop(['age_range','marital_status','rented','family_size','no_of_children','income_bracket'], axis = 1, inplace=True)\n",
    "#test.drop(['age_range','marital_status','rented','family_size','no_of_children','income_bracket'], axis = 1, inplace=True)"
   ]
  },
  {
   "cell_type": "code",
   "execution_count": 4,
   "metadata": {},
   "outputs": [],
   "source": [
    "# train['duration'] = train['duration'].dt.days\n",
    "# test['duration'] = test['duration'].dt.days"
   ]
  },
  {
   "cell_type": "code",
   "execution_count": 5,
   "metadata": {},
   "outputs": [],
   "source": [
    "campaignData = pd.read_csv('campaign_data.csv')\n",
    "campaignData['start_date'] = pd.to_datetime(campaignData['start_date'], format= '%d/%m/%y')\n",
    "campaignData['end_date'] = pd.to_datetime(campaignData['end_date'], format= '%d/%m/%y')\n",
    "campaignData = campaignData.sort_values(by = 'start_date')\n",
    "testCamp = test.campaign_id.unique()\n",
    "trainCamp = train.campaign_id.unique()\n",
    "campaignData['TrainOrTest'] = campaignData['campaign_id'].apply(lambda x : 'Train' if x in trainCamp else 'Test')"
   ]
  },
  {
   "cell_type": "code",
   "execution_count": 6,
   "metadata": {
    "scrolled": true
   },
   "outputs": [
    {
     "name": "stdout",
     "output_type": "stream",
     "text": [
      "<class 'pandas.core.frame.DataFrame'>\n",
      "Int64Index: 78369 entries, 0 to 78368\n",
      "Data columns (total 121 columns):\n",
      "id                               78369 non-null int64\n",
      "campaign_id                      78369 non-null int64\n",
      "coupon_id                        78369 non-null int64\n",
      "customer_id                      78369 non-null int64\n",
      "redemption_status                78369 non-null int64\n",
      "item_id_nunique                  78369 non-null int64\n",
      "item_id_mode                     78369 non-null int64\n",
      "quantity_mean                    78369 non-null float64\n",
      "quantity_nunique                 78369 non-null int64\n",
      "quantity_mode                    78369 non-null int64\n",
      "quantity_std                     78369 non-null float64\n",
      "quantity_max_                    78369 non-null int64\n",
      "selling_price_mean               78369 non-null float64\n",
      "selling_price_max_               78369 non-null float64\n",
      "selling_price_min_               78369 non-null float64\n",
      "selling_price_std                78369 non-null float64\n",
      "other_discount_mean              78369 non-null float64\n",
      "other_discount_max_              78369 non-null float64\n",
      "other_discount_min_              78369 non-null float64\n",
      "other_discount_std               78369 non-null float64\n",
      "coupon_discount_mean             78369 non-null float64\n",
      "coupon_discount_max_             78369 non-null float64\n",
      "coupon_discount_min_             78369 non-null float64\n",
      "coupon_discount_std              78369 non-null float64\n",
      "brand_nunique                    78369 non-null int64\n",
      "brand_mode                       78369 non-null int64\n",
      "brand_type_nunique               78369 non-null int64\n",
      "brand_type_mode                  78369 non-null object\n",
      "brand_type_category_nunique      78369 non-null int64\n",
      "brand_type_category_mode         78369 non-null object\n",
      "total_disc_mean                  78369 non-null float64\n",
      "total_disc_max_                  78369 non-null float64\n",
      "total_disc_min_                  78369 non-null float64\n",
      "total_disc_std                   78369 non-null float64\n",
      "Total_Bill_mean                  78369 non-null float64\n",
      "Total_Bill_max_                  78369 non-null float64\n",
      "Total_Bill_min_                  78369 non-null float64\n",
      "Total_Bill_std                   78369 non-null float64\n",
      "dayofweek_nunique                78369 non-null int64\n",
      "dayofweek_mode                   78369 non-null int64\n",
      "month_nunique                    78369 non-null int64\n",
      "month_mode                       78369 non-null int64\n",
      "is_monthEnd_mean                 78369 non-null float64\n",
      "is_monthStart_mean               78369 non-null float64\n",
      "disc_perc_mean                   78369 non-null float64\n",
      "disc_perc_max_                   78369 non-null float64\n",
      "disc_perc_min_                   78369 non-null float64\n",
      "disc_perc_std                    78369 non-null float64\n",
      "is_coupoun_disc_mean             78369 non-null float64\n",
      "is_coupoun_disc_sum              78369 non-null int64\n",
      "brand_category_nunique           78369 non-null int64\n",
      "brand_category_mode              78369 non-null object\n",
      "dayofmonth_nunique               78369 non-null int64\n",
      "dayofmonth_mode                  78369 non-null int64\n",
      "prev_int_count                   78369 non-null int64\n",
      "itemPastSellingMean              11794 non-null float64\n",
      "itemPastSellingStd               7228 non-null float64\n",
      "itemPastSellingMax               11794 non-null float64\n",
      "itemPastSellingMin               11794 non-null float64\n",
      "itemPastOtherMean                11794 non-null float64\n",
      "itemPastOtherStd                 7228 non-null float64\n",
      "itemPastOtherMax                 11794 non-null float64\n",
      "itemPastOtherMin                 11794 non-null float64\n",
      "itemPastCouponMean               11794 non-null float64\n",
      "itemPastCouponStd                7228 non-null float64\n",
      "itemPastCouponMax                11794 non-null float64\n",
      "itemPastCouponMin                11794 non-null float64\n",
      "itemPastCouponMean.1             11794 non-null float64\n",
      "itemPastCouponStd.1              7228 non-null float64\n",
      "itemPastCouponMax.1              11794 non-null float64\n",
      "itemPastCouponMin.1              11794 non-null float64\n",
      "itemPastTotalBillMean            11794 non-null float64\n",
      "itemPastTotalBillStd             7228 non-null float64\n",
      "itemPastTotalBillMax             11794 non-null float64\n",
      "itemPastTotalBillMin             11794 non-null float64\n",
      "nUniqueCust                      78369 non-null int64\n",
      "CoupounSize                      78369 non-null int64\n",
      "CoupSellingPriceMean             77113 non-null float64\n",
      "CoupSellingPriceStd              75942 non-null float64\n",
      "CoupSellingPriceMin              77113 non-null float64\n",
      "CoupSellingPriceMax              77113 non-null float64\n",
      "CoupCouponDiscMean               77113 non-null float64\n",
      "CoupCouponDiscStd                75942 non-null float64\n",
      "CoupCouponDiscMax                77113 non-null float64\n",
      "CoupCouponDiscMin                77113 non-null float64\n",
      "CoupOtherDiscMean                77113 non-null float64\n",
      "CoupOtherDiscStd                 75942 non-null float64\n",
      "CoupOtherDiscMax                 77113 non-null float64\n",
      "CoupOtherDiscMin                 77113 non-null float64\n",
      "CoupBrandMode                    77113 non-null float64\n",
      "CoupBrandTypeMode                77113 non-null object\n",
      "CoupFav8DayofWeek                77113 non-null float64\n",
      "CoupBrandNunique                 78369 non-null int64\n",
      "CoupBrandTypeNunique             78369 non-null int64\n",
      "CoupQuantMean                    77113 non-null float64\n",
      "CoupQuantStd                     75942 non-null float64\n",
      "CoupQuantMax                     77113 non-null float64\n",
      "CoupQuantMin                     77113 non-null float64\n",
      "CoupTotalDiscMean                77113 non-null float64\n",
      "CoupTotalDiscStd                 75942 non-null float64\n",
      "CoupTotalDiscMax                 77113 non-null float64\n",
      "CoupTotalDiscMin                 77113 non-null float64\n",
      "CoupTotalBillMean                77113 non-null float64\n",
      "CoupTotalBillStd                 75942 non-null float64\n",
      "CoupTotalBillMax                 77113 non-null float64\n",
      "CoupTotalBillMin                 77113 non-null float64\n",
      "CoupIsMonthEndMean               77113 non-null float64\n",
      "CoupIsMonthStartMean             77113 non-null float64\n",
      "age_range                        43661 non-null object\n",
      "marital_status                   25394 non-null object\n",
      "rented                           43661 non-null float64\n",
      "family_size                      43661 non-null float64\n",
      "no_of_children                   14056 non-null float64\n",
      "income_bracket                   43661 non-null float64\n",
      "age_approximated                 43661 non-null float64\n",
      "income_bucket_div_age            43661 non-null float64\n",
      "income_div_family_size           43661 non-null float64\n",
      "income_bucket_div_no_of_child    14056 non-null float64\n",
      "family_to_number_of_child        14056 non-null float64\n",
      "campaign_type                    78369 non-null object\n",
      "duration                         78369 non-null int64\n",
      "dtypes: float64(86), int64(28), object(7)\n",
      "memory usage: 72.9+ MB\n"
     ]
    }
   ],
   "source": [
    "train.info(max_cols= 200)"
   ]
  },
  {
   "cell_type": "code",
   "execution_count": 7,
   "metadata": {},
   "outputs": [],
   "source": [
    "target = 'redemption_status'\n",
    "cat = ['campaign_type', 'brand_type_mode', 'brand_type_category_mode', 'brand_category_mode', \n",
    "      'CoupBrandTypeMode', 'age_range', 'marital_status']"
   ]
  },
  {
   "cell_type": "code",
   "execution_count": 8,
   "metadata": {},
   "outputs": [],
   "source": [
    "#moreCat = [x for x in train.columns if ('mode' in x.lower())]"
   ]
  },
  {
   "cell_type": "code",
   "execution_count": 9,
   "metadata": {},
   "outputs": [],
   "source": [
    "#cat = list(set(cat + moreCat))"
   ]
  },
  {
   "cell_type": "code",
   "execution_count": 10,
   "metadata": {},
   "outputs": [],
   "source": [
    "from sklearn.preprocessing import LabelEncoder"
   ]
  },
  {
   "cell_type": "code",
   "execution_count": 11,
   "metadata": {},
   "outputs": [],
   "source": [
    "All = train.append(test)"
   ]
  },
  {
   "cell_type": "code",
   "execution_count": 12,
   "metadata": {},
   "outputs": [],
   "source": [
    "def one_hot_encoder(df, nan_as_category = False):\n",
    "    original_columns = list(df.columns)\n",
    "    categorical_columns = cat\n",
    "    df = pd.get_dummies(df, columns= categorical_columns, dummy_na= nan_as_category)\n",
    "    new_columns = [c for c in df.columns if c not in original_columns]\n",
    "    return df, new_columns\n",
    "def display_importances(feature_importance_df_):\n",
    "    cols = feature_importance_df_[[\"feature\", \"importance\"]].groupby(\"feature\").mean().sort_values(by=\"importance\", ascending=False)[:40].index\n",
    "    best_features = feature_importance_df_.loc[feature_importance_df_.feature.isin(cols)]\n",
    "    plt.figure(figsize=(8, 10))\n",
    "    sns.barplot(x=\"importance\", y=\"feature\", data=best_features.sort_values(by=\"importance\", ascending=False))"
   ]
  },
  {
   "cell_type": "code",
   "execution_count": 13,
   "metadata": {},
   "outputs": [],
   "source": [
    "for c in cat:\n",
    "    lbe = LabelEncoder()\n",
    "    All[c] = All[c].astype('str')\n",
    "    All[c] = lbe.fit_transform(All[c])"
   ]
  },
  {
   "cell_type": "code",
   "execution_count": 14,
   "metadata": {},
   "outputs": [],
   "source": [
    "#All, newCols = one_hot_encoder(All, nan_as_category=True)"
   ]
  },
  {
   "cell_type": "code",
   "execution_count": 15,
   "metadata": {
    "scrolled": true
   },
   "outputs": [],
   "source": [
    "# numColsToGroupBy = ['nUniqueCust', 'is_monthEnd_mean',\n",
    "#        'is_monthStart_mean', 'selling_price_mean',\n",
    "#        'is_coupoun_disc_mean', 'disc_perc_max_',\n",
    "#        'itemPastTotalBillMin', 'Total_Bill_min_', 'itemPastOtherMean',\n",
    "#        'itemPastSellingMean', 'selling_price_std', 'item_id_nunique',\n",
    "#        'itemPastSellingMax', 'itemPastOtherStd', 'income_bucket_div_age',\n",
    "#        'selling_price_max_', 'coupon_discount_std', 'disc_perc_mean',\n",
    "#        'itemPastSellingStd', 'disc_perc_std', 'itemPastSellingMin']\n",
    "\n",
    "# cat = ['coupon_id']\n",
    "\n",
    "# def level_1_group_by_feats(df,cat,num):\n",
    "#     df[cat+'_'+num+'_mean']=df[cat].map(dict(df.groupby([cat])[num].mean()))\n",
    "#     df[cat+'_'+num+'_std']=df[cat].map(dict(df.groupby([cat])[num].std()))\n",
    "#     df[cat+'_'+num+'_mean_delta']=df[num]- df[cat+'_'+num+'_mean']\n",
    "#     df[cat+'_'+num+'_mean_ratio']=df[num]/ (1+df[cat+'_'+num+'_mean'])\n",
    "#     return df\n",
    "\n",
    "# combos=[(a,b) for a in numColsToGroupBy for b in cat]\n",
    "# print(len(combos))\n",
    "# for i,combo in enumerate(combos):\n",
    "#     All=level_1_group_by_feats(All,combo[1],combo[0])\n",
    "#     print(i)"
   ]
  },
  {
   "cell_type": "code",
   "execution_count": 16,
   "metadata": {},
   "outputs": [],
   "source": [
    "train = All[~All.redemption_status.isnull()]\n",
    "test = All[All.redemption_status.isnull()]"
   ]
  },
  {
   "cell_type": "code",
   "execution_count": 17,
   "metadata": {},
   "outputs": [],
   "source": [
    "toDrop = [x for x in train.columns if train[x].nunique() == 1]"
   ]
  },
  {
   "cell_type": "code",
   "execution_count": 18,
   "metadata": {},
   "outputs": [],
   "source": [
    "moreToDrop = [x for x in train.columns if x.startswith('Coup')]"
   ]
  },
  {
   "cell_type": "code",
   "execution_count": 19,
   "metadata": {},
   "outputs": [],
   "source": [
    "notTrainOn = ['id', 'campaign_id']\n",
    "trainOn = [x for x in train.columns if (x not in notTrainOn ) & (x not in toDrop) & (x!=target) & (x not in moreToDrop)]"
   ]
  },
  {
   "cell_type": "code",
   "execution_count": 20,
   "metadata": {},
   "outputs": [],
   "source": [
    "gkf = KFold(n_splits=5)"
   ]
  },
  {
   "cell_type": "code",
   "execution_count": 21,
   "metadata": {},
   "outputs": [],
   "source": [
    "catIndex = [i for i,x in enumerate(trainOn) if x in cat]"
   ]
  },
  {
   "cell_type": "code",
   "execution_count": 22,
   "metadata": {},
   "outputs": [],
   "source": [
    "oof = np.zeros_like(train[target])\n",
    "oot = np.zeros_like(test['id']).astype('float')\n",
    "feature_importance_df = pd.DataFrame()"
   ]
  },
  {
   "cell_type": "code",
   "execution_count": null,
   "metadata": {},
   "outputs": [],
   "source": []
  },
  {
   "cell_type": "code",
   "execution_count": 23,
   "metadata": {},
   "outputs": [],
   "source": [
    "def getResultSummary(res):\n",
    "    trainMean = np.mean(list(map(lambda x : x[0], res)))\n",
    "    validMean = np.mean(list(map(lambda x : x[1], res)))\n",
    "    trainStd = np.std(list(map(lambda x : x[0], res)))\n",
    "    validStd = np.std(list(map(lambda x : x[1], res)))\n",
    "    return {\n",
    "        \n",
    "        'Train Mean' : trainMean, \n",
    "        'Valid Mean' : validMean, \n",
    "        'Train Std'  : trainStd,\n",
    "        'Valid Std'  : validStd\n",
    "    }"
   ]
  },
  {
   "cell_type": "code",
   "execution_count": 24,
   "metadata": {},
   "outputs": [],
   "source": [
    "import lightgbm as lgb"
   ]
  },
  {
   "cell_type": "code",
   "execution_count": 25,
   "metadata": {
    "scrolled": true
   },
   "outputs": [
    {
     "name": "stdout",
     "output_type": "stream",
     "text": [
      "[0]\tvalidation_0-auc:0.840162\tvalidation_1-auc:0.850748\n",
      "Multiple eval metrics have been passed: 'validation_1-auc' will be used for early stopping.\n",
      "\n",
      "Will train until validation_1-auc hasn't improved in 100 rounds.\n",
      "[50]\tvalidation_0-auc:0.882383\tvalidation_1-auc:0.897365\n",
      "[100]\tvalidation_0-auc:0.916396\tvalidation_1-auc:0.915658\n",
      "[150]\tvalidation_0-auc:0.926817\tvalidation_1-auc:0.92591\n",
      "[200]\tvalidation_0-auc:0.93567\tvalidation_1-auc:0.932333\n",
      "[250]\tvalidation_0-auc:0.942384\tvalidation_1-auc:0.933769\n",
      "[300]\tvalidation_0-auc:0.948497\tvalidation_1-auc:0.94267\n",
      "[350]\tvalidation_0-auc:0.954777\tvalidation_1-auc:0.947924\n",
      "[400]\tvalidation_0-auc:0.960145\tvalidation_1-auc:0.950125\n",
      "[450]\tvalidation_0-auc:0.963723\tvalidation_1-auc:0.952241\n",
      "[500]\tvalidation_0-auc:0.96704\tvalidation_1-auc:0.954346\n",
      "[550]\tvalidation_0-auc:0.969772\tvalidation_1-auc:0.95549\n",
      "[600]\tvalidation_0-auc:0.972064\tvalidation_1-auc:0.956531\n",
      "[650]\tvalidation_0-auc:0.974335\tvalidation_1-auc:0.957242\n",
      "[700]\tvalidation_0-auc:0.976131\tvalidation_1-auc:0.958213\n",
      "[750]\tvalidation_0-auc:0.977768\tvalidation_1-auc:0.959039\n",
      "[800]\tvalidation_0-auc:0.979341\tvalidation_1-auc:0.959285\n",
      "[850]\tvalidation_0-auc:0.980496\tvalidation_1-auc:0.95975\n",
      "[900]\tvalidation_0-auc:0.981605\tvalidation_1-auc:0.959943\n",
      "[950]\tvalidation_0-auc:0.982673\tvalidation_1-auc:0.960325\n",
      "[1000]\tvalidation_0-auc:0.98367\tvalidation_1-auc:0.960356\n",
      "[1050]\tvalidation_0-auc:0.984547\tvalidation_1-auc:0.960376\n",
      "Stopping. Best iteration:\n",
      "[970]\tvalidation_0-auc:0.983021\tvalidation_1-auc:0.960645\n",
      "\n",
      "[0]\tvalidation_0-auc:0.851978\tvalidation_1-auc:0.803523\n",
      "Multiple eval metrics have been passed: 'validation_1-auc' will be used for early stopping.\n",
      "\n",
      "Will train until validation_1-auc hasn't improved in 100 rounds.\n",
      "[50]\tvalidation_0-auc:0.890818\tvalidation_1-auc:0.852613\n",
      "[100]\tvalidation_0-auc:0.92587\tvalidation_1-auc:0.887498\n",
      "[150]\tvalidation_0-auc:0.929903\tvalidation_1-auc:0.892513\n",
      "[200]\tvalidation_0-auc:0.938775\tvalidation_1-auc:0.900722\n",
      "[250]\tvalidation_0-auc:0.946078\tvalidation_1-auc:0.905949\n",
      "[300]\tvalidation_0-auc:0.952387\tvalidation_1-auc:0.915896\n",
      "[350]\tvalidation_0-auc:0.958087\tvalidation_1-auc:0.920099\n",
      "[400]\tvalidation_0-auc:0.962719\tvalidation_1-auc:0.922806\n",
      "[450]\tvalidation_0-auc:0.966869\tvalidation_1-auc:0.925136\n",
      "[500]\tvalidation_0-auc:0.970208\tvalidation_1-auc:0.926568\n",
      "[550]\tvalidation_0-auc:0.972949\tvalidation_1-auc:0.927954\n",
      "[600]\tvalidation_0-auc:0.975307\tvalidation_1-auc:0.929198\n",
      "[650]\tvalidation_0-auc:0.977524\tvalidation_1-auc:0.929693\n",
      "[700]\tvalidation_0-auc:0.97916\tvalidation_1-auc:0.93016\n",
      "[750]\tvalidation_0-auc:0.980627\tvalidation_1-auc:0.930567\n",
      "[800]\tvalidation_0-auc:0.981994\tvalidation_1-auc:0.930935\n",
      "[850]\tvalidation_0-auc:0.983348\tvalidation_1-auc:0.932029\n",
      "[900]\tvalidation_0-auc:0.984403\tvalidation_1-auc:0.932378\n",
      "[950]\tvalidation_0-auc:0.985373\tvalidation_1-auc:0.93282\n",
      "[1000]\tvalidation_0-auc:0.986351\tvalidation_1-auc:0.932915\n",
      "[1050]\tvalidation_0-auc:0.987125\tvalidation_1-auc:0.932998\n",
      "[1100]\tvalidation_0-auc:0.987913\tvalidation_1-auc:0.933456\n",
      "[1150]\tvalidation_0-auc:0.988646\tvalidation_1-auc:0.93416\n",
      "[1200]\tvalidation_0-auc:0.989167\tvalidation_1-auc:0.934647\n",
      "[1250]\tvalidation_0-auc:0.989705\tvalidation_1-auc:0.934849\n",
      "[1300]\tvalidation_0-auc:0.990198\tvalidation_1-auc:0.935488\n",
      "[1350]\tvalidation_0-auc:0.990785\tvalidation_1-auc:0.935428\n",
      "[1400]\tvalidation_0-auc:0.991314\tvalidation_1-auc:0.935768\n",
      "[1450]\tvalidation_0-auc:0.991791\tvalidation_1-auc:0.936139\n",
      "[1500]\tvalidation_0-auc:0.992246\tvalidation_1-auc:0.936485\n",
      "[1550]\tvalidation_0-auc:0.992683\tvalidation_1-auc:0.936884\n",
      "[1600]\tvalidation_0-auc:0.993015\tvalidation_1-auc:0.937213\n",
      "[1650]\tvalidation_0-auc:0.993336\tvalidation_1-auc:0.937478\n",
      "[1700]\tvalidation_0-auc:0.993645\tvalidation_1-auc:0.937611\n",
      "[1750]\tvalidation_0-auc:0.993985\tvalidation_1-auc:0.937662\n",
      "[1800]\tvalidation_0-auc:0.994269\tvalidation_1-auc:0.937909\n",
      "[1850]\tvalidation_0-auc:0.994583\tvalidation_1-auc:0.938003\n",
      "[1900]\tvalidation_0-auc:0.994863\tvalidation_1-auc:0.937932\n",
      "[1950]\tvalidation_0-auc:0.995081\tvalidation_1-auc:0.937953\n",
      "[2000]\tvalidation_0-auc:0.995288\tvalidation_1-auc:0.938198\n",
      "[2050]\tvalidation_0-auc:0.995536\tvalidation_1-auc:0.938365\n",
      "[2100]\tvalidation_0-auc:0.995737\tvalidation_1-auc:0.938326\n",
      "Stopping. Best iteration:\n",
      "[2025]\tvalidation_0-auc:0.9954\tvalidation_1-auc:0.938494\n",
      "\n",
      "[0]\tvalidation_0-auc:0.833663\tvalidation_1-auc:0.837324\n",
      "Multiple eval metrics have been passed: 'validation_1-auc' will be used for early stopping.\n",
      "\n",
      "Will train until validation_1-auc hasn't improved in 100 rounds.\n",
      "[50]\tvalidation_0-auc:0.888529\tvalidation_1-auc:0.876015\n",
      "[100]\tvalidation_0-auc:0.891568\tvalidation_1-auc:0.880994\n",
      "[150]\tvalidation_0-auc:0.925929\tvalidation_1-auc:0.910571\n",
      "[200]\tvalidation_0-auc:0.934339\tvalidation_1-auc:0.916869\n",
      "[250]\tvalidation_0-auc:0.941615\tvalidation_1-auc:0.926184\n",
      "[300]\tvalidation_0-auc:0.949337\tvalidation_1-auc:0.936555\n",
      "[350]\tvalidation_0-auc:0.955572\tvalidation_1-auc:0.940346\n",
      "[400]\tvalidation_0-auc:0.960484\tvalidation_1-auc:0.943539\n",
      "[450]\tvalidation_0-auc:0.964445\tvalidation_1-auc:0.94588\n",
      "[500]\tvalidation_0-auc:0.96759\tvalidation_1-auc:0.948209\n",
      "[550]\tvalidation_0-auc:0.970557\tvalidation_1-auc:0.950436\n",
      "[600]\tvalidation_0-auc:0.972582\tvalidation_1-auc:0.951629\n",
      "[650]\tvalidation_0-auc:0.97463\tvalidation_1-auc:0.95212\n",
      "[700]\tvalidation_0-auc:0.976368\tvalidation_1-auc:0.952387\n",
      "[750]\tvalidation_0-auc:0.977959\tvalidation_1-auc:0.953134\n",
      "[800]\tvalidation_0-auc:0.979452\tvalidation_1-auc:0.954204\n",
      "[850]\tvalidation_0-auc:0.980783\tvalidation_1-auc:0.954247\n",
      "[900]\tvalidation_0-auc:0.982112\tvalidation_1-auc:0.954848\n",
      "[950]\tvalidation_0-auc:0.983283\tvalidation_1-auc:0.955025\n",
      "[1000]\tvalidation_0-auc:0.984245\tvalidation_1-auc:0.954966\n",
      "Stopping. Best iteration:\n",
      "[928]\tvalidation_0-auc:0.982806\tvalidation_1-auc:0.955089\n",
      "\n",
      "[0]\tvalidation_0-auc:0.870389\tvalidation_1-auc:0.863441\n",
      "Multiple eval metrics have been passed: 'validation_1-auc' will be used for early stopping.\n",
      "\n",
      "Will train until validation_1-auc hasn't improved in 100 rounds.\n",
      "[50]\tvalidation_0-auc:0.887746\tvalidation_1-auc:0.878002\n",
      "[100]\tvalidation_0-auc:0.919275\tvalidation_1-auc:0.909327\n",
      "[150]\tvalidation_0-auc:0.930543\tvalidation_1-auc:0.919639\n",
      "[200]\tvalidation_0-auc:0.936673\tvalidation_1-auc:0.924731\n",
      "[250]\tvalidation_0-auc:0.943763\tvalidation_1-auc:0.926249\n",
      "[300]\tvalidation_0-auc:0.950821\tvalidation_1-auc:0.934779\n",
      "[350]\tvalidation_0-auc:0.956496\tvalidation_1-auc:0.940152\n",
      "[400]\tvalidation_0-auc:0.961735\tvalidation_1-auc:0.944252\n",
      "[450]\tvalidation_0-auc:0.966062\tvalidation_1-auc:0.948127\n",
      "[500]\tvalidation_0-auc:0.969385\tvalidation_1-auc:0.950719\n",
      "[550]\tvalidation_0-auc:0.972393\tvalidation_1-auc:0.95273\n",
      "[600]\tvalidation_0-auc:0.974414\tvalidation_1-auc:0.953813\n",
      "[650]\tvalidation_0-auc:0.97642\tvalidation_1-auc:0.954985\n",
      "[700]\tvalidation_0-auc:0.978173\tvalidation_1-auc:0.956338\n",
      "[750]\tvalidation_0-auc:0.979816\tvalidation_1-auc:0.95713\n",
      "[800]\tvalidation_0-auc:0.980972\tvalidation_1-auc:0.957511\n",
      "[850]\tvalidation_0-auc:0.98209\tvalidation_1-auc:0.958771\n",
      "[900]\tvalidation_0-auc:0.983241\tvalidation_1-auc:0.959393\n",
      "[950]\tvalidation_0-auc:0.984349\tvalidation_1-auc:0.96015\n",
      "[1000]\tvalidation_0-auc:0.985145\tvalidation_1-auc:0.960541\n",
      "[1050]\tvalidation_0-auc:0.985969\tvalidation_1-auc:0.960985\n",
      "[1100]\tvalidation_0-auc:0.986797\tvalidation_1-auc:0.961333\n",
      "[1150]\tvalidation_0-auc:0.987409\tvalidation_1-auc:0.961649\n",
      "[1200]\tvalidation_0-auc:0.988098\tvalidation_1-auc:0.961679\n",
      "[1250]\tvalidation_0-auc:0.988601\tvalidation_1-auc:0.961435\n",
      "[1300]\tvalidation_0-auc:0.989085\tvalidation_1-auc:0.96189\n",
      "[1350]\tvalidation_0-auc:0.989651\tvalidation_1-auc:0.961741\n",
      "[1400]\tvalidation_0-auc:0.990076\tvalidation_1-auc:0.961636\n",
      "Stopping. Best iteration:\n",
      "[1305]\tvalidation_0-auc:0.989162\tvalidation_1-auc:0.962006\n",
      "\n",
      "[0]\tvalidation_0-auc:0.833909\tvalidation_1-auc:0.832275\n",
      "Multiple eval metrics have been passed: 'validation_1-auc' will be used for early stopping.\n",
      "\n",
      "Will train until validation_1-auc hasn't improved in 100 rounds.\n",
      "[50]\tvalidation_0-auc:0.882339\tvalidation_1-auc:0.89966\n",
      "[100]\tvalidation_0-auc:0.917644\tvalidation_1-auc:0.927907\n",
      "[150]\tvalidation_0-auc:0.925989\tvalidation_1-auc:0.934437\n",
      "[200]\tvalidation_0-auc:0.932879\tvalidation_1-auc:0.938694\n",
      "[250]\tvalidation_0-auc:0.942007\tvalidation_1-auc:0.942055\n",
      "[300]\tvalidation_0-auc:0.94869\tvalidation_1-auc:0.947857\n"
     ]
    },
    {
     "name": "stdout",
     "output_type": "stream",
     "text": [
      "[350]\tvalidation_0-auc:0.954887\tvalidation_1-auc:0.949547\n",
      "[400]\tvalidation_0-auc:0.960142\tvalidation_1-auc:0.951813\n",
      "[450]\tvalidation_0-auc:0.964941\tvalidation_1-auc:0.954246\n",
      "[500]\tvalidation_0-auc:0.968259\tvalidation_1-auc:0.956249\n",
      "[550]\tvalidation_0-auc:0.971256\tvalidation_1-auc:0.957452\n",
      "[600]\tvalidation_0-auc:0.973539\tvalidation_1-auc:0.958848\n",
      "[650]\tvalidation_0-auc:0.975744\tvalidation_1-auc:0.959656\n",
      "[700]\tvalidation_0-auc:0.977641\tvalidation_1-auc:0.961045\n",
      "[750]\tvalidation_0-auc:0.97892\tvalidation_1-auc:0.961441\n",
      "[800]\tvalidation_0-auc:0.980286\tvalidation_1-auc:0.961872\n",
      "[850]\tvalidation_0-auc:0.981456\tvalidation_1-auc:0.962094\n",
      "[900]\tvalidation_0-auc:0.982561\tvalidation_1-auc:0.962407\n",
      "[950]\tvalidation_0-auc:0.983523\tvalidation_1-auc:0.96251\n",
      "[1000]\tvalidation_0-auc:0.984483\tvalidation_1-auc:0.962795\n",
      "[1050]\tvalidation_0-auc:0.985398\tvalidation_1-auc:0.962905\n",
      "[1100]\tvalidation_0-auc:0.986222\tvalidation_1-auc:0.962736\n",
      "Stopping. Best iteration:\n",
      "[1033]\tvalidation_0-auc:0.985042\tvalidation_1-auc:0.963063\n",
      "\n"
     ]
    }
   ],
   "source": [
    "results = []\n",
    "featureImp = []\n",
    "i = 0\n",
    "for train_index, test_index in gkf.split(train[trainOn], train[target]):\n",
    "    train_X = train.iloc[train_index][trainOn]\n",
    "    valid_X = train.iloc[test_index][trainOn]\n",
    "    train_y = train.iloc[train_index][target]\n",
    "    valid_y = train.iloc[test_index][target]\n",
    "    model = xgboost.XGBClassifier(n_estimators=3500, n_jobs=6, learning_rate=0.02, subsample=0.8, random_state=17, )\n",
    "    model.fit(train_X, train_y, eval_set= [(train_X, train_y),\n",
    "                                        (valid_X, valid_y)],\n",
    "                            early_stopping_rounds= 100, verbose = 50, eval_metric = 'auc')\n",
    "    valid_pred = model.predict_proba(valid_X)[:,1]\n",
    "    train_pred = model.predict_proba(train_X)[:,1]\n",
    "    trainRes = roc_auc_score(train_y, train_pred)\n",
    "    validRes = roc_auc_score(valid_y, valid_pred)\n",
    "    oof[test_index] = valid_pred\n",
    "    ootPred = model.predict_proba(test[trainOn])[:,1]\n",
    "    oot += ootPred / 5\n",
    "    results.append((trainRes, validRes))\n",
    "    fold_importance_df = pd.DataFrame()\n",
    "    fold_importance_df[\"feature\"] = trainOn\n",
    "    fold_importance_df[\"importance\"] = model.feature_importances_\n",
    "    fold_importance_df[\"fold\"] = i + 1\n",
    "    feature_importance_df = pd.concat([feature_importance_df, fold_importance_df], axis=0)\n",
    "    i+=1"
   ]
  },
  {
   "cell_type": "code",
   "execution_count": 29,
   "metadata": {
    "scrolled": true
   },
   "outputs": [
    {
     "data": {
      "text/plain": [
       "{'Train Mean': 0.9870862644738934,\n",
       " 'Valid Mean': 0.9558594909873687,\n",
       " 'Train Std': 0.004742157841062713,\n",
       " 'Valid Std': 0.00910742982296578}"
      ]
     },
     "execution_count": 29,
     "metadata": {},
     "output_type": "execute_result"
    }
   ],
   "source": [
    "getResultSummary(results)"
   ]
  },
  {
   "cell_type": "code",
   "execution_count": 30,
   "metadata": {},
   "outputs": [],
   "source": [
    "def saveStackingFile(prefix):\n",
    "    oof_ = pd.DataFrame(oof,columns = [prefix])\n",
    "    oot_ = pd.DataFrame(oot,columns = [prefix])\n",
    "    print(oof_.shape, oot_.shape)\n",
    "    oof_.to_csv(prefix + '_train.csv', index = False)\n",
    "    oot_.to_csv(prefix + '_test.csv', index = False)"
   ]
  },
  {
   "cell_type": "code",
   "execution_count": 31,
   "metadata": {},
   "outputs": [
    {
     "name": "stdout",
     "output_type": "stream",
     "text": [
      "(78369, 1) (50226, 1)\n"
     ]
    }
   ],
   "source": [
    "saveStackingFile('XGB_0.02_0.8_17_Feat_5_label_encoding_Coup_Removed')"
   ]
  },
  {
   "cell_type": "code",
   "execution_count": 32,
   "metadata": {
    "scrolled": false
   },
   "outputs": [
    {
     "data": {
      "image/png": "[encoded data removed]",
      "text/plain": [
       "<Figure size 576x720 with 1 Axes>"
      ]
     },
     "metadata": {
      "needs_background": "light"
     },
     "output_type": "display_data"
    }
   ],
   "source": [
    "display_importances(feature_importance_df)"
   ]
  },
  {
   "cell_type": "code",
   "execution_count": 30,
   "metadata": {},
   "outputs": [],
   "source": [
    "test[target] = oot"
   ]
  },
  {
   "cell_type": "code",
   "execution_count": 31,
   "metadata": {},
   "outputs": [],
   "source": [
    "fileName = str(uuid.uuid4()).split('-')[-1]"
   ]
  },
  {
   "cell_type": "code",
   "execution_count": 32,
   "metadata": {},
   "outputs": [],
   "source": [
    "test[['id', target]].to_csv(fileName + '.csv', index = False)"
   ]
  }
 ],
 "metadata": {
  "kernelspec": {
   "display_name": "Python 3",
   "language": "python",
   "name": "python3"
  },
  "language_info": {
   "codemirror_mode": {
    "name": "ipython",
    "version": 3
   },
   "file_extension": ".py",
   "mimetype": "text/x-python",
   "name": "python",
   "nbconvert_exporter": "python",
   "pygments_lexer": "ipython3",
   "version": "3.7.3"
  }
 },
 "nbformat": 4,
 "nbformat_minor": 2
}
