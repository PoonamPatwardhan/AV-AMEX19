{
 "cells": [
  {
   "cell_type": "code",
   "execution_count": 1,
   "metadata": {},
   "outputs": [],
   "source": [
    "import pandas as pd\n",
    "import numpy as np\n",
    "import matplotlib.pyplot as plt\n",
    "import os"
   ]
  },
  {
   "cell_type": "code",
   "execution_count": 2,
   "metadata": {},
   "outputs": [],
   "source": [
    "lst = os.listdir()"
   ]
  },
  {
   "cell_type": "code",
   "execution_count": 3,
   "metadata": {},
   "outputs": [],
   "source": [
    "train_Files = [x for x in lst if x.endswith('_train.csv')]\n",
    "test_Files = [x for x in lst if x.endswith('_test.csv')]"
   ]
  },
  {
   "cell_type": "code",
   "execution_count": 4,
   "metadata": {
    "scrolled": true
   },
   "outputs": [],
   "source": [
    "files = [x[:-10] for x in train_Files]"
   ]
  },
  {
   "cell_type": "code",
   "execution_count": 5,
   "metadata": {},
   "outputs": [
    {
     "data": {
      "text/plain": [
       "['Feat1_LGBM_Gruped_Cats_FE',\n",
       " 'CGB_Feat5_All_Possible_Feats_5_Fold',\n",
       " 'Feat_5_LGB_ItemPast_Removed',\n",
       " 'CGB_Feat5_Extra_Past_Item_5_Fold',\n",
       " 'XGB_0.02_0.8_17_Feat_5_label_encoding_Coup_Removed',\n",
       " 'Feat_5_LGB_Coup_Removed_1337']"
      ]
     },
     "execution_count": 5,
     "metadata": {},
     "output_type": "execute_result"
    }
   ],
   "source": [
    "files"
   ]
  },
  {
   "cell_type": "code",
   "execution_count": 6,
   "metadata": {},
   "outputs": [
    {
     "data": {
      "text/plain": [
       "['Feat1_LGBM_Gruped_Cats_FE_train.csv',\n",
       " 'CGB_Feat5_All_Possible_Feats_5_Fold_train.csv',\n",
       " 'Feat_5_LGB_ItemPast_Removed_train.csv',\n",
       " 'CGB_Feat5_Extra_Past_Item_5_Fold_train.csv',\n",
       " 'XGB_0.02_0.8_17_Feat_5_label_encoding_Coup_Removed_train.csv',\n",
       " 'Feat_5_LGB_Coup_Removed_1337_train.csv']"
      ]
     },
     "execution_count": 6,
     "metadata": {},
     "output_type": "execute_result"
    }
   ],
   "source": [
    "train_Files"
   ]
  },
  {
   "cell_type": "code",
   "execution_count": 8,
   "metadata": {},
   "outputs": [],
   "source": [
    "Group1 = ['CGB_Feat5_Extra_Past_Item_5_Fold', \n",
    "         'Feat1_LGBM_Gruped_Cats_FE', \n",
    "         'Feat_5_LGB_ItemPast_Removed',\n",
    "         'Feat_5_LGB_Coup_Removed_1337', \n",
    "         'CGB_Feat5_All_Possible_Feats_5_Fold']"
   ]
  },
  {
   "cell_type": "code",
   "execution_count": 9,
   "metadata": {},
   "outputs": [],
   "source": [
    "group1Tup = [(x + '_train.csv', x + '_test.csv') for x in Group1]"
   ]
  },
  {
   "cell_type": "code",
   "execution_count": 10,
   "metadata": {},
   "outputs": [
    {
     "data": {
      "text/plain": [
       "[('CGB_Feat5_Extra_Past_Item_5_Fold_train.csv',\n",
       "  'CGB_Feat5_Extra_Past_Item_5_Fold_test.csv'),\n",
       " ('Feat1_LGBM_Gruped_Cats_FE_train.csv', 'Feat1_LGBM_Gruped_Cats_FE_test.csv'),\n",
       " ('Feat_5_LGB_ItemPast_Removed_train.csv',\n",
       "  'Feat_5_LGB_ItemPast_Removed_test.csv'),\n",
       " ('Feat_5_LGB_Coup_Removed_1337_train.csv',\n",
       "  'Feat_5_LGB_Coup_Removed_1337_test.csv'),\n",
       " ('CGB_Feat5_All_Possible_Feats_5_Fold_train.csv',\n",
       "  'CGB_Feat5_All_Possible_Feats_5_Fold_test.csv')]"
      ]
     },
     "execution_count": 10,
     "metadata": {},
     "output_type": "execute_result"
    }
   ],
   "source": [
    "group1Tup"
   ]
  },
  {
   "cell_type": "code",
   "execution_count": 11,
   "metadata": {},
   "outputs": [
    {
     "name": "stdout",
     "output_type": "stream",
     "text": [
      "CGB_Feat5_Extra_Past_Item_5_Fold_train.csv CGB_Feat5_Extra_Past_Item_5_Fold_test.csv\n",
      "Feat1_LGBM_Gruped_Cats_FE_train.csv Feat1_LGBM_Gruped_Cats_FE_test.csv\n",
      "Feat_5_LGB_ItemPast_Removed_train.csv Feat_5_LGB_ItemPast_Removed_test.csv\n",
      "Feat_5_LGB_Coup_Removed_1337_train.csv Feat_5_LGB_Coup_Removed_1337_test.csv\n",
      "CGB_Feat5_All_Possible_Feats_5_Fold_train.csv CGB_Feat5_All_Possible_Feats_5_Fold_test.csv\n"
     ]
    }
   ],
   "source": [
    "for x,y in group1Tup:\n",
    "    print(x,y)\n",
    "    assert x in train_Files\n",
    "    assert y in test_Files"
   ]
  },
  {
   "cell_type": "code",
   "execution_count": 12,
   "metadata": {},
   "outputs": [],
   "source": [
    "trainGroup1DF = pd.DataFrame()\n",
    "testGroup1DF = pd.DataFrame()\n",
    "for trainCol, testCol in group1Tup:\n",
    "    temp = pd.read_csv(trainCol)\n",
    "    trainGroup1DF = pd.concat([trainGroup1DF, temp],axis = 1)\n",
    "    temp = pd.read_csv(testCol)\n",
    "    testGroup1DF = pd.concat([testGroup1DF, temp],axis = 1)"
   ]
  },
  {
   "cell_type": "code",
   "execution_count": 13,
   "metadata": {},
   "outputs": [
    {
     "data": {
      "text/plain": [
       "((78369, 5), (50226, 5))"
      ]
     },
     "execution_count": 13,
     "metadata": {},
     "output_type": "execute_result"
    }
   ],
   "source": [
    "trainGroup1DF.shape, testGroup1DF.shape"
   ]
  },
  {
   "cell_type": "code",
   "execution_count": null,
   "metadata": {},
   "outputs": [],
   "source": []
  },
  {
   "cell_type": "code",
   "execution_count": 14,
   "metadata": {},
   "outputs": [],
   "source": [
    "trainCols = set(trainGroup1DF.columns).intersection(testGroup1DF.columns)"
   ]
  },
  {
   "cell_type": "code",
   "execution_count": 16,
   "metadata": {},
   "outputs": [],
   "source": [
    "## Loading Orig Labels \n",
    "\n",
    "train = pd.read_csv('train.csv')\n",
    "trainGroup1DF['redemption_status'] = train.redemption_status"
   ]
  },
  {
   "cell_type": "code",
   "execution_count": 17,
   "metadata": {},
   "outputs": [],
   "source": [
    "from sklearn.linear_model import LogisticRegressionCV, LogisticRegression\n",
    "from sklearn.model_selection import KFold\n",
    "gkf = KFold(n_splits=5)\n",
    "from sklearn.metrics import roc_auc_score\n",
    "import xgboost\n",
    "from sklearn.feature_selection import RFE, RFECV\n",
    "from sklearn.svm import SVC\n",
    "from sklearn.ensemble import RandomForestClassifier"
   ]
  },
  {
   "cell_type": "code",
   "execution_count": 18,
   "metadata": {
    "scrolled": true
   },
   "outputs": [
    {
     "name": "stderr",
     "output_type": "stream",
     "text": [
      "/home/mudit/anaconda3/lib/python3.7/site-packages/sklearn/linear_model/logistic.py:432: FutureWarning: Default solver will be changed to 'lbfgs' in 0.22. Specify a solver to silence this warning.\n",
      "  FutureWarning)\n",
      "/home/mudit/anaconda3/lib/python3.7/site-packages/sklearn/linear_model/logistic.py:432: FutureWarning: Default solver will be changed to 'lbfgs' in 0.22. Specify a solver to silence this warning.\n",
      "  FutureWarning)\n",
      "/home/mudit/anaconda3/lib/python3.7/site-packages/sklearn/linear_model/logistic.py:432: FutureWarning: Default solver will be changed to 'lbfgs' in 0.22. Specify a solver to silence this warning.\n",
      "  FutureWarning)\n",
      "/home/mudit/anaconda3/lib/python3.7/site-packages/sklearn/linear_model/logistic.py:432: FutureWarning: Default solver will be changed to 'lbfgs' in 0.22. Specify a solver to silence this warning.\n",
      "  FutureWarning)\n",
      "/home/mudit/anaconda3/lib/python3.7/site-packages/sklearn/linear_model/logistic.py:432: FutureWarning: Default solver will be changed to 'lbfgs' in 0.22. Specify a solver to silence this warning.\n",
      "  FutureWarning)\n"
     ]
    }
   ],
   "source": [
    "oof = np.zeros_like(trainGroup1DF.redemption_status).astype('float')\n",
    "oot = np.zeros_like(testGroup1DF.index).astype('float')\n",
    "\n",
    "def getResultSummary(res):\n",
    "    trainMean = np.mean(list(map(lambda x : x[0], res)))\n",
    "    validMean = np.mean(list(map(lambda x : x[1], res)))\n",
    "    trainStd = np.std(list(map(lambda x : x[0], res)))\n",
    "    validStd = np.std(list(map(lambda x : x[1], res)))\n",
    "    return {\n",
    "        \n",
    "        'Train Mean' : trainMean, \n",
    "        'Valid Mean' : validMean, \n",
    "        'Train Std'  : trainStd,\n",
    "        'Valid Std'  : validStd\n",
    "    }\n",
    "\n",
    "results = []\n",
    "featureImp = []\n",
    "i = 0\n",
    "for train_index, test_index in gkf.split(trainGroup1DF[trainCols], trainGroup1DF['redemption_status']):\n",
    "    train_X = trainGroup1DF.iloc[train_index][trainCols]\n",
    "    valid_X = trainGroup1DF.iloc[test_index][trainCols]\n",
    "    train_y = trainGroup1DF.iloc[train_index]['redemption_status']\n",
    "    valid_y = trainGroup1DF.iloc[test_index]['redemption_status']\n",
    "    model = LogisticRegression(C = 0.1)\n",
    "    model.fit(train_X, train_y)\n",
    "    valid_pred = model.predict_proba(valid_X)[:,1]\n",
    "    train_pred = model.predict_proba(train_X)[:,1]\n",
    "    trainRes = roc_auc_score(train_y, train_pred)\n",
    "    validRes = roc_auc_score(valid_y, valid_pred)\n",
    "    oof[test_index] = valid_pred\n",
    "    ootPred = model.predict_proba(testGroup1DF[trainCols])[:,1]\n",
    "    oot += ootPred / 5\n",
    "    results.append((trainRes, validRes))\n",
    "    i+=1"
   ]
  },
  {
   "cell_type": "code",
   "execution_count": 19,
   "metadata": {},
   "outputs": [
    {
     "data": {
      "text/plain": [
       "{'Train Mean': 0.9636807663510514,\n",
       " 'Valid Mean': 0.963866198902261,\n",
       " 'Train Std': 0.002116053668242637,\n",
       " 'Valid Std': 0.009112195176333472}"
      ]
     },
     "execution_count": 19,
     "metadata": {},
     "output_type": "execute_result"
    }
   ],
   "source": [
    "getResultSummary(results)"
   ]
  },
  {
   "cell_type": "code",
   "execution_count": 20,
   "metadata": {},
   "outputs": [
    {
     "name": "stdout",
     "output_type": "stream",
     "text": [
      "(78369, 1) (50226, 1)\n"
     ]
    }
   ],
   "source": [
    "def saveStackingFile(prefix):\n",
    "    oof_ = pd.DataFrame(oof,columns = [prefix])\n",
    "    oot_ = pd.DataFrame(oot,columns = [prefix])\n",
    "    print(oof_.shape, oot_.shape)\n",
    "    oof_.to_csv(prefix + '_train.csv', index = False)\n",
    "    oot_.to_csv(prefix + '_test.csv', index = False)\n",
    "\n",
    "saveStackingFile('LOGITLEVEL1')"
   ]
  }
 ],
 "metadata": {
  "kernelspec": {
   "display_name": "Python 3",
   "language": "python",
   "name": "python3"
  },
  "language_info": {
   "codemirror_mode": {
    "name": "ipython",
    "version": 3
   },
   "file_extension": ".py",
   "mimetype": "text/x-python",
   "name": "python",
   "nbconvert_exporter": "python",
   "pygments_lexer": "ipython3",
   "version": "3.7.3"
  }
 },
 "nbformat": 4,
 "nbformat_minor": 2
}
