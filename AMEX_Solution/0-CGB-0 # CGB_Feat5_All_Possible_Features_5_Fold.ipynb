{
 "cells": [
  {
   "cell_type": "code",
   "execution_count": 1,
   "metadata": {
    "scrolled": true
   },
   "outputs": [],
   "source": [
    "import pandas as pd\n",
    "import warnings\n",
    "warnings.filterwarnings('ignore')\n",
    "import numpy as np\n",
    "import matplotlib.pyplot as plt\n",
    "from sklearn.metrics import roc_auc_score\n",
    "import xgboost\n",
    "from sklearn.model_selection import GroupKFold, KFold\n",
    "import uuid\n",
    "import seaborn as sns"
   ]
  },
  {
   "cell_type": "code",
   "execution_count": 2,
   "metadata": {},
   "outputs": [],
   "source": [
    "train  = pd.read_pickle('Feat5_119_oct_1_feats_train_More_items_past.pkl')\n",
    "test = pd.read_pickle('Feat5_119_oct_1_feats_test_More_items_past.pkl')"
   ]
  },
  {
   "cell_type": "code",
   "execution_count": 3,
   "metadata": {},
   "outputs": [],
   "source": [
    "#train.drop(['age_range','marital_status','rented','family_size','no_of_children','income_bracket'], axis = 1, inplace=True)\n",
    "#test.drop(['age_range','marital_status','rented','family_size','no_of_children','income_bracket'], axis = 1, inplace=True)"
   ]
  },
  {
   "cell_type": "code",
   "execution_count": 4,
   "metadata": {},
   "outputs": [],
   "source": [
    "# train['duration'] = train['duration'].dt.days\n",
    "# test['duration'] = test['duration'].dt.days"
   ]
  },
  {
   "cell_type": "code",
   "execution_count": 5,
   "metadata": {},
   "outputs": [],
   "source": [
    "campaignData = pd.read_csv('campaign_data.csv')\n",
    "campaignData['start_date'] = pd.to_datetime(campaignData['start_date'], format= '%d/%m/%y')\n",
    "campaignData['end_date'] = pd.to_datetime(campaignData['end_date'], format= '%d/%m/%y')\n",
    "campaignData = campaignData.sort_values(by = 'start_date')\n",
    "testCamp = test.campaign_id.unique()\n",
    "trainCamp = train.campaign_id.unique()\n",
    "campaignData['TrainOrTest'] = campaignData['campaign_id'].apply(lambda x : 'Train' if x in trainCamp else 'Test')"
   ]
  },
  {
   "cell_type": "code",
   "execution_count": 6,
   "metadata": {
    "scrolled": true
   },
   "outputs": [
    {
     "name": "stdout",
     "output_type": "stream",
     "text": [
      "<class 'pandas.core.frame.DataFrame'>\n",
      "Int64Index: 78369 entries, 0 to 78368\n",
      "Data columns (total 132 columns):\n",
      "id                               78369 non-null int64\n",
      "campaign_id                      78369 non-null int64\n",
      "coupon_id                        78369 non-null int64\n",
      "customer_id                      78369 non-null int64\n",
      "redemption_status                78369 non-null int64\n",
      "item_id_nunique                  78369 non-null int64\n",
      "item_id_mode                     78369 non-null int64\n",
      "quantity_mean                    78369 non-null float64\n",
      "quantity_nunique                 78369 non-null int64\n",
      "quantity_mode                    78369 non-null int64\n",
      "quantity_std                     78369 non-null float64\n",
      "quantity_max_                    78369 non-null int64\n",
      "selling_price_mean               78369 non-null float64\n",
      "selling_price_max_               78369 non-null float64\n",
      "selling_price_min_               78369 non-null float64\n",
      "selling_price_std                78369 non-null float64\n",
      "other_discount_mean              78369 non-null float64\n",
      "other_discount_max_              78369 non-null float64\n",
      "other_discount_min_              78369 non-null float64\n",
      "other_discount_std               78369 non-null float64\n",
      "coupon_discount_mean             78369 non-null float64\n",
      "coupon_discount_max_             78369 non-null float64\n",
      "coupon_discount_min_             78369 non-null float64\n",
      "coupon_discount_std              78369 non-null float64\n",
      "brand_nunique                    78369 non-null int64\n",
      "brand_mode                       78369 non-null int64\n",
      "brand_type_nunique               78369 non-null int64\n",
      "brand_type_mode                  78369 non-null object\n",
      "brand_type_category_nunique      78369 non-null int64\n",
      "brand_type_category_mode         78369 non-null object\n",
      "total_disc_mean                  78369 non-null float64\n",
      "total_disc_max_                  78369 non-null float64\n",
      "total_disc_min_                  78369 non-null float64\n",
      "total_disc_std                   78369 non-null float64\n",
      "Total_Bill_mean                  78369 non-null float64\n",
      "Total_Bill_max_                  78369 non-null float64\n",
      "Total_Bill_min_                  78369 non-null float64\n",
      "Total_Bill_std                   78369 non-null float64\n",
      "dayofweek_nunique                78369 non-null int64\n",
      "dayofweek_mode                   78369 non-null int64\n",
      "month_nunique                    78369 non-null int64\n",
      "month_mode                       78369 non-null int64\n",
      "is_monthEnd_mean                 78369 non-null float64\n",
      "is_monthStart_mean               78369 non-null float64\n",
      "disc_perc_mean                   78369 non-null float64\n",
      "disc_perc_max_                   78369 non-null float64\n",
      "disc_perc_min_                   78369 non-null float64\n",
      "disc_perc_std                    78369 non-null float64\n",
      "is_coupoun_disc_mean             78369 non-null float64\n",
      "is_coupoun_disc_sum              78369 non-null int64\n",
      "brand_category_nunique           78369 non-null int64\n",
      "brand_category_mode              78369 non-null object\n",
      "dayofmonth_nunique               78369 non-null int64\n",
      "dayofmonth_mode                  78369 non-null int64\n",
      "prev_int_count                   78369 non-null int64\n",
      "itemPastSellingMean              11794 non-null float64\n",
      "itemPastSellingStd               7228 non-null float64\n",
      "itemPastSellingMax               11794 non-null float64\n",
      "itemPastSellingMin               11794 non-null float64\n",
      "itemPastOtherMean                11794 non-null float64\n",
      "itemPastOtherStd                 7228 non-null float64\n",
      "itemPastOtherMax                 11794 non-null float64\n",
      "itemPastOtherMin                 11794 non-null float64\n",
      "itemPastCouponMean               11794 non-null float64\n",
      "itemPastCouponStd                7228 non-null float64\n",
      "itemPastCouponMax                11794 non-null float64\n",
      "itemPastCouponMin                11794 non-null float64\n",
      "itemPastTotal_DiscMean           11794 non-null float64\n",
      "itemPastTotal_DiscStd            7228 non-null float64\n",
      "itemPastTotal_DiscMax            11794 non-null float64\n",
      "itemPastTotal_DiscMin            11794 non-null float64\n",
      "itemPastTotalBillMean            11794 non-null float64\n",
      "itemPastTotalBillStd             7228 non-null float64\n",
      "itemPastTotalBillMax             11794 non-null float64\n",
      "itemPastTotalBillMin             11794 non-null float64\n",
      "itemPastDiscPercMean             11794 non-null float64\n",
      "itemPastDiscPercStd              7228 non-null float64\n",
      "itemPastDiscPercMax              11794 non-null float64\n",
      "itemPastDiscPercMin              11794 non-null float64\n",
      "itemPastIsCouponDiscSum          78369 non-null int64\n",
      "itemPastIsCouponDiscMean         11794 non-null float64\n",
      "itemPastIsMonthEndSum            78369 non-null int64\n",
      "itemPastIsMonthEndMean           11794 non-null float64\n",
      "itemPastIsMonthStartSum          78369 non-null int64\n",
      "itemPastIsMonthStartMean         11794 non-null float64\n",
      "itemPastDayOfMonthMean           11794 non-null float64\n",
      "nUniqueCust                      78369 non-null int64\n",
      "CoupounSize                      78369 non-null int64\n",
      "CoupSellingPriceMean             77113 non-null float64\n",
      "CoupSellingPriceStd              75942 non-null float64\n",
      "CoupSellingPriceMin              77113 non-null float64\n",
      "CoupSellingPriceMax              77113 non-null float64\n",
      "CoupCouponDiscMean               77113 non-null float64\n",
      "CoupCouponDiscStd                75942 non-null float64\n",
      "CoupCouponDiscMax                77113 non-null float64\n",
      "CoupCouponDiscMin                77113 non-null float64\n",
      "CoupOtherDiscMean                77113 non-null float64\n",
      "CoupOtherDiscStd                 75942 non-null float64\n",
      "CoupOtherDiscMax                 77113 non-null float64\n",
      "CoupOtherDiscMin                 77113 non-null float64\n",
      "CoupBrandMode                    77113 non-null float64\n",
      "CoupBrandTypeMode                77113 non-null object\n",
      "CoupFav8DayofWeek                77113 non-null float64\n",
      "CoupBrandNunique                 78369 non-null int64\n",
      "CoupBrandTypeNunique             78369 non-null int64\n",
      "CoupQuantMean                    77113 non-null float64\n",
      "CoupQuantStd                     75942 non-null float64\n",
      "CoupQuantMax                     77113 non-null float64\n",
      "CoupQuantMin                     77113 non-null float64\n",
      "CoupTotalDiscMean                77113 non-null float64\n",
      "CoupTotalDiscStd                 75942 non-null float64\n",
      "CoupTotalDiscMax                 77113 non-null float64\n",
      "CoupTotalDiscMin                 77113 non-null float64\n",
      "CoupTotalBillMean                77113 non-null float64\n",
      "CoupTotalBillStd                 75942 non-null float64\n",
      "CoupTotalBillMax                 77113 non-null float64\n",
      "CoupTotalBillMin                 77113 non-null float64\n",
      "CoupIsMonthEndMean               77113 non-null float64\n",
      "CoupIsMonthStartMean             77113 non-null float64\n",
      "age_range                        43661 non-null object\n",
      "marital_status                   25394 non-null object\n",
      "rented                           43661 non-null float64\n",
      "family_size                      43661 non-null float64\n",
      "no_of_children                   14056 non-null float64\n",
      "income_bracket                   43661 non-null float64\n",
      "age_approximated                 43661 non-null float64\n",
      "income_bucket_div_age            43661 non-null float64\n",
      "income_div_family_size           43661 non-null float64\n",
      "income_bucket_div_no_of_child    14056 non-null float64\n",
      "family_to_number_of_child        14056 non-null float64\n",
      "campaign_type                    78369 non-null object\n",
      "duration                         78369 non-null int64\n",
      "dtypes: float64(94), int64(31), object(7)\n",
      "memory usage: 79.5+ MB\n"
     ]
    }
   ],
   "source": [
    "train.info(max_cols= 200)"
   ]
  },
  {
   "cell_type": "code",
   "execution_count": 7,
   "metadata": {},
   "outputs": [],
   "source": [
    "target = 'redemption_status'\n",
    "cat = ['campaign_type', 'brand_type_mode', 'brand_type_category_mode', 'brand_category_mode', \n",
    "      'CoupBrandTypeMode', 'age_range', 'marital_status']"
   ]
  },
  {
   "cell_type": "code",
   "execution_count": 8,
   "metadata": {},
   "outputs": [],
   "source": [
    "moreCat = [x for x in train.columns if ('mode' in x.lower())]"
   ]
  },
  {
   "cell_type": "code",
   "execution_count": 9,
   "metadata": {},
   "outputs": [],
   "source": [
    "cat = list(set(cat + moreCat))"
   ]
  },
  {
   "cell_type": "code",
   "execution_count": 10,
   "metadata": {},
   "outputs": [],
   "source": [
    "# All = train.append(test)"
   ]
  },
  {
   "cell_type": "code",
   "execution_count": 11,
   "metadata": {},
   "outputs": [],
   "source": [
    "# def one_hot_encoder(df, nan_as_category = False):\n",
    "#     original_columns = list(df.columns)\n",
    "#     categorical_columns = cat\n",
    "#     df = pd.get_dummies(df, columns= categorical_columns, dummy_na= nan_as_category)\n",
    "#     new_columns = [c for c in df.columns if c not in original_columns]\n",
    "#     return df, new_columns\n",
    "def display_importances(feature_importance_df_):\n",
    "    cols = feature_importance_df_[[\"feature\", \"importance\"]].groupby(\"feature\").mean().sort_values(by=\"importance\", ascending=False)[:40].index\n",
    "    best_features = feature_importance_df_.loc[feature_importance_df_.feature.isin(cols)]\n",
    "    plt.figure(figsize=(8, 10))\n",
    "    sns.barplot(x=\"importance\", y=\"feature\", data=best_features.sort_values(by=\"importance\", ascending=False))"
   ]
  },
  {
   "cell_type": "code",
   "execution_count": 12,
   "metadata": {},
   "outputs": [],
   "source": [
    "#All, newCols = one_hot_encoder(All, nan_as_category=True)"
   ]
  },
  {
   "cell_type": "code",
   "execution_count": 13,
   "metadata": {},
   "outputs": [],
   "source": [
    "# train = All[~All.redemption_status.isnull()]\n",
    "# test = All[All.redemption_status.isnull()]"
   ]
  },
  {
   "cell_type": "code",
   "execution_count": 14,
   "metadata": {},
   "outputs": [],
   "source": [
    "toDrop = [x for x in train.columns if train[x].nunique() == 1]"
   ]
  },
  {
   "cell_type": "code",
   "execution_count": 15,
   "metadata": {},
   "outputs": [],
   "source": [
    "#moreToDrop = [x for x in train.columns if x.startswith('Coup')]\n",
    "moreToDrop = []"
   ]
  },
  {
   "cell_type": "code",
   "execution_count": 16,
   "metadata": {},
   "outputs": [],
   "source": [
    "notTrainOn = ['id', 'campaign_id']\n",
    "trainOn = [x for x in train.columns if (x not in notTrainOn ) & (x not in toDrop) & (x!=target) & (x not in moreToDrop)]"
   ]
  },
  {
   "cell_type": "code",
   "execution_count": 17,
   "metadata": {},
   "outputs": [],
   "source": [
    "catIndex = [i for i,_ in enumerate(trainOn) if _ in cat]"
   ]
  },
  {
   "cell_type": "code",
   "execution_count": 18,
   "metadata": {},
   "outputs": [],
   "source": [
    "gkf = KFold(n_splits=5)"
   ]
  },
  {
   "cell_type": "code",
   "execution_count": 19,
   "metadata": {},
   "outputs": [],
   "source": [
    "catIndex = [i for i,x in enumerate(trainOn) if x in cat]"
   ]
  },
  {
   "cell_type": "code",
   "execution_count": 20,
   "metadata": {},
   "outputs": [],
   "source": [
    "#trainOn.remove('itemPastIsCouponDiscMean')"
   ]
  },
  {
   "cell_type": "code",
   "execution_count": null,
   "metadata": {},
   "outputs": [],
   "source": []
  },
  {
   "cell_type": "code",
   "execution_count": 21,
   "metadata": {},
   "outputs": [],
   "source": [
    "oof = np.zeros_like(train[target])\n",
    "oot = np.zeros_like(test['id']).astype('float')\n",
    "feature_importance_df = pd.DataFrame()"
   ]
  },
  {
   "cell_type": "code",
   "execution_count": 22,
   "metadata": {},
   "outputs": [],
   "source": [
    "oof = oof.astype('float')"
   ]
  },
  {
   "cell_type": "code",
   "execution_count": 23,
   "metadata": {},
   "outputs": [],
   "source": [
    "import catboost as cbg"
   ]
  },
  {
   "cell_type": "code",
   "execution_count": 24,
   "metadata": {},
   "outputs": [],
   "source": [
    "def getResultSummary(res):\n",
    "    trainMean = np.mean(list(map(lambda x : x[0], res)))\n",
    "    validMean = np.mean(list(map(lambda x : x[1], res)))\n",
    "    trainStd = np.std(list(map(lambda x : x[0], res)))\n",
    "    validStd = np.std(list(map(lambda x : x[1], res)))\n",
    "    return {\n",
    "        \n",
    "        'Train Mean' : trainMean, \n",
    "        'Valid Mean' : validMean, \n",
    "        'Train Std'  : trainStd,\n",
    "        'Valid Std'  : validStd\n",
    "    }"
   ]
  },
  {
   "cell_type": "code",
   "execution_count": 25,
   "metadata": {},
   "outputs": [],
   "source": [
    "import catboost as cbg"
   ]
  },
  {
   "cell_type": "code",
   "execution_count": 26,
   "metadata": {},
   "outputs": [],
   "source": [
    "import lightgbm as lgb"
   ]
  },
  {
   "cell_type": "code",
   "execution_count": 27,
   "metadata": {},
   "outputs": [],
   "source": [
    "for x in cat:\n",
    "    train[cat] = train[cat].astype('str')\n",
    "    test[cat] = test[cat].astype('str')"
   ]
  },
  {
   "cell_type": "code",
   "execution_count": 28,
   "metadata": {
    "scrolled": false
   },
   "outputs": [
    {
     "name": "stdout",
     "output_type": "stream",
     "text": [
      "0:\ttest: 0.7424607\ttest1: 0.7636848\tbest: 0.7636848 (0)\ttotal: 167ms\tremaining: 6m 57s\n",
      "100:\ttest: 0.9441805\ttest1: 0.9437853\tbest: 0.9438059 (98)\ttotal: 7.29s\tremaining: 2m 53s\n",
      "200:\ttest: 0.9540561\ttest1: 0.9507181\tbest: 0.9507181 (200)\ttotal: 15.5s\tremaining: 2m 57s\n",
      "300:\ttest: 0.9591693\ttest1: 0.9530729\tbest: 0.9530729 (300)\ttotal: 23.1s\tremaining: 2m 48s\n",
      "400:\ttest: 0.9633120\ttest1: 0.9545257\tbest: 0.9548486 (378)\ttotal: 31.7s\tremaining: 2m 45s\n",
      "500:\ttest: 0.9673566\ttest1: 0.9560564\tbest: 0.9560564 (500)\ttotal: 40.5s\tremaining: 2m 41s\n",
      "600:\ttest: 0.9703428\ttest1: 0.9576474\tbest: 0.9577113 (597)\ttotal: 54.6s\tremaining: 2m 52s\n",
      "700:\ttest: 0.9731984\ttest1: 0.9593922\tbest: 0.9593922 (700)\ttotal: 1m 8s\tremaining: 2m 56s\n",
      "800:\ttest: 0.9756734\ttest1: 0.9599860\tbest: 0.9599972 (796)\ttotal: 1m 22s\tremaining: 2m 55s\n",
      "900:\ttest: 0.9778989\ttest1: 0.9600531\tbest: 0.9601663 (815)\ttotal: 1m 34s\tremaining: 2m 48s\n",
      "1000:\ttest: 0.9800426\ttest1: 0.9604243\tbest: 0.9604243 (1000)\ttotal: 1m 46s\tremaining: 2m 39s\n",
      "1100:\ttest: 0.9820557\ttest1: 0.9616549\tbest: 0.9616549 (1100)\ttotal: 1m 57s\tremaining: 2m 29s\n",
      "1200:\ttest: 0.9837749\ttest1: 0.9624383\tbest: 0.9624383 (1200)\ttotal: 2m 8s\tremaining: 2m 18s\n",
      "1300:\ttest: 0.9854633\ttest1: 0.9632718\tbest: 0.9633080 (1275)\ttotal: 2m 21s\tremaining: 2m 10s\n",
      "1400:\ttest: 0.9866673\ttest1: 0.9635678\tbest: 0.9636277 (1374)\ttotal: 2m 34s\tremaining: 2m 1s\n",
      "1500:\ttest: 0.9879640\ttest1: 0.9637632\tbest: 0.9638187 (1445)\ttotal: 2m 44s\tremaining: 1m 49s\n",
      "1600:\ttest: 0.9892986\ttest1: 0.9634028\tbest: 0.9638187 (1445)\ttotal: 2m 55s\tremaining: 1m 38s\n",
      "1700:\ttest: 0.9905389\ttest1: 0.9631859\tbest: 0.9638187 (1445)\ttotal: 3m 8s\tremaining: 1m 28s\n",
      "1800:\ttest: 0.9914005\ttest1: 0.9631180\tbest: 0.9638187 (1445)\ttotal: 3m 23s\tremaining: 1m 18s\n",
      "Stopped by overfitting detector  (400 iterations wait)\n",
      "\n",
      "bestTest = 0.9638186843\n",
      "bestIteration = 1445\n",
      "\n",
      "Shrink model to first 1446 iterations.\n",
      "[0.00026441 0.00085114 0.00609441 ... 0.00483402 0.00192327 0.00270713]\n",
      "0:\ttest: 0.7490398\ttest1: 0.7363384\tbest: 0.7363384 (0)\ttotal: 148ms\tremaining: 6m 9s\n",
      "100:\ttest: 0.9526348\ttest1: 0.9165335\tbest: 0.9167672 (95)\ttotal: 10.3s\tremaining: 4m 3s\n",
      "200:\ttest: 0.9605247\ttest1: 0.9219428\tbest: 0.9219428 (200)\ttotal: 20.5s\tremaining: 3m 54s\n",
      "300:\ttest: 0.9651122\ttest1: 0.9235967\tbest: 0.9235967 (300)\ttotal: 32.7s\tremaining: 3m 58s\n",
      "400:\ttest: 0.9691414\ttest1: 0.9255953\tbest: 0.9255953 (400)\ttotal: 44.8s\tremaining: 3m 54s\n",
      "500:\ttest: 0.9724063\ttest1: 0.9281150\tbest: 0.9281150 (500)\ttotal: 56.9s\tremaining: 3m 47s\n",
      "600:\ttest: 0.9755558\ttest1: 0.9293086\tbest: 0.9293206 (599)\ttotal: 1m 9s\tremaining: 3m 40s\n",
      "700:\ttest: 0.9781237\ttest1: 0.9301810\tbest: 0.9302076 (697)\ttotal: 1m 20s\tremaining: 3m 25s\n",
      "800:\ttest: 0.9806112\ttest1: 0.9315012\tbest: 0.9315112 (799)\ttotal: 1m 30s\tremaining: 3m 11s\n",
      "900:\ttest: 0.9823889\ttest1: 0.9330309\tbest: 0.9330580 (889)\ttotal: 1m 40s\tremaining: 2m 58s\n",
      "1000:\ttest: 0.9845876\ttest1: 0.9328455\tbest: 0.9332480 (918)\ttotal: 1m 50s\tremaining: 2m 44s\n",
      "1100:\ttest: 0.9863311\ttest1: 0.9334003\tbest: 0.9336852 (1091)\ttotal: 1m 59s\tremaining: 2m 31s\n",
      "1200:\ttest: 0.9876602\ttest1: 0.9339591\tbest: 0.9341365 (1194)\ttotal: 2m 8s\tremaining: 2m 18s\n",
      "1300:\ttest: 0.9890149\ttest1: 0.9349777\tbest: 0.9349953 (1295)\ttotal: 2m 17s\tremaining: 2m 6s\n",
      "1400:\ttest: 0.9902537\ttest1: 0.9360843\tbest: 0.9360843 (1400)\ttotal: 2m 26s\tremaining: 1m 55s\n",
      "1500:\ttest: 0.9913331\ttest1: 0.9367140\tbest: 0.9370080 (1473)\ttotal: 2m 36s\tremaining: 1m 43s\n",
      "1600:\ttest: 0.9922815\ttest1: 0.9372668\tbest: 0.9372955 (1591)\ttotal: 2m 45s\tremaining: 1m 32s\n",
      "1700:\ttest: 0.9930747\ttest1: 0.9376281\tbest: 0.9377578 (1681)\ttotal: 2m 54s\tremaining: 1m 21s\n",
      "1800:\ttest: 0.9937580\ttest1: 0.9379372\tbest: 0.9382010 (1749)\ttotal: 3m 7s\tremaining: 1m 12s\n",
      "1900:\ttest: 0.9944563\ttest1: 0.9379191\tbest: 0.9382010 (1749)\ttotal: 3m 19s\tremaining: 1m 3s\n",
      "2000:\ttest: 0.9951165\ttest1: 0.9372960\tbest: 0.9382010 (1749)\ttotal: 3m 30s\tremaining: 52.5s\n",
      "2100:\ttest: 0.9957029\ttest1: 0.9379548\tbest: 0.9382010 (1749)\ttotal: 3m 40s\tremaining: 42s\n",
      "2200:\ttest: 0.9962649\ttest1: 0.9379548\tbest: 0.9382809 (2135)\ttotal: 3m 50s\tremaining: 31.3s\n",
      "2300:\ttest: 0.9967133\ttest1: 0.9380503\tbest: 0.9382809 (2135)\ttotal: 4m\tremaining: 20.8s\n",
      "2400:\ttest: 0.9970650\ttest1: 0.9381498\tbest: 0.9382809 (2135)\ttotal: 4m 9s\tremaining: 10.3s\n",
      "2499:\ttest: 0.9974441\ttest1: 0.9377332\tbest: 0.9382809 (2135)\ttotal: 4m 19s\tremaining: 0us\n",
      "\n",
      "bestTest = 0.9382809485\n",
      "bestIteration = 2135\n",
      "\n",
      "Shrink model to first 2136 iterations.\n",
      "[0.00069627 0.01033445 0.00248033 ... 0.00101845 0.53188122 0.0008778 ]\n",
      "0:\ttest: 0.7749129\ttest1: 0.7680034\tbest: 0.7680034 (0)\ttotal: 86.9ms\tremaining: 3m 37s\n",
      "100:\ttest: 0.9459896\ttest1: 0.9290007\tbest: 0.9290825 (96)\ttotal: 9.56s\tremaining: 3m 47s\n",
      "200:\ttest: 0.9552756\ttest1: 0.9350052\tbest: 0.9351071 (197)\ttotal: 19s\tremaining: 3m 37s\n",
      "300:\ttest: 0.9599734\ttest1: 0.9370520\tbest: 0.9370681 (284)\ttotal: 28.6s\tremaining: 3m 29s\n",
      "400:\ttest: 0.9639908\ttest1: 0.9388000\tbest: 0.9388862 (397)\ttotal: 38.3s\tremaining: 3m 20s\n",
      "500:\ttest: 0.9676905\ttest1: 0.9401833\tbest: 0.9401917 (496)\ttotal: 47.9s\tremaining: 3m 10s\n",
      "600:\ttest: 0.9704529\ttest1: 0.9414672\tbest: 0.9414672 (600)\ttotal: 57.4s\tremaining: 3m 1s\n",
      "700:\ttest: 0.9738246\ttest1: 0.9428882\tbest: 0.9428882 (700)\ttotal: 1m 7s\tremaining: 2m 52s\n",
      "800:\ttest: 0.9764057\ttest1: 0.9433538\tbest: 0.9436951 (752)\ttotal: 1m 17s\tremaining: 2m 43s\n",
      "900:\ttest: 0.9786172\ttest1: 0.9440525\tbest: 0.9440727 (898)\ttotal: 1m 26s\tremaining: 2m 34s\n",
      "1000:\ttest: 0.9808568\ttest1: 0.9449848\tbest: 0.9450343 (999)\ttotal: 1m 36s\tremaining: 2m 24s\n",
      "1100:\ttest: 0.9826006\ttest1: 0.9455421\tbest: 0.9455604 (1093)\ttotal: 1m 46s\tremaining: 2m 15s\n",
      "1200:\ttest: 0.9844283\ttest1: 0.9460334\tbest: 0.9461364 (1183)\ttotal: 1m 56s\tremaining: 2m 5s\n",
      "1300:\ttest: 0.9861202\ttest1: 0.9459615\tbest: 0.9462068 (1245)\ttotal: 2m 5s\tremaining: 1m 55s\n",
      "1400:\ttest: 0.9875737\ttest1: 0.9459058\tbest: 0.9462068 (1245)\ttotal: 2m 15s\tremaining: 1m 46s\n",
      "1500:\ttest: 0.9890905\ttest1: 0.9465235\tbest: 0.9465954 (1490)\ttotal: 2m 25s\tremaining: 1m 36s\n",
      "1600:\ttest: 0.9902445\ttest1: 0.9467945\tbest: 0.9467948 (1598)\ttotal: 2m 34s\tremaining: 1m 26s\n",
      "1700:\ttest: 0.9913285\ttest1: 0.9467266\tbest: 0.9468480 (1666)\ttotal: 2m 44s\tremaining: 1m 17s\n",
      "1800:\ttest: 0.9924285\ttest1: 0.9466152\tbest: 0.9468480 (1666)\ttotal: 2m 54s\tremaining: 1m 7s\n",
      "1900:\ttest: 0.9933354\ttest1: 0.9464113\tbest: 0.9468480 (1666)\ttotal: 3m 4s\tremaining: 58s\n",
      "2000:\ttest: 0.9941953\ttest1: 0.9465866\tbest: 0.9468480 (1666)\ttotal: 3m 13s\tremaining: 48.3s\n",
      "Stopped by overfitting detector  (400 iterations wait)\n",
      "\n",
      "bestTest = 0.9468479804\n",
      "bestIteration = 1666\n",
      "\n",
      "Shrink model to first 1667 iterations.\n",
      "[2.21629561e-03 3.63035518e-04 1.18465651e-03 ... 9.29170026e-05\n",
      " 2.55884721e-03 8.87367103e-03]\n",
      "0:\ttest: 0.7463236\ttest1: 0.7464913\tbest: 0.7464913 (0)\ttotal: 86ms\tremaining: 3m 34s\n",
      "100:\ttest: 0.9456518\ttest1: 0.9415038\tbest: 0.9417228 (98)\ttotal: 9.37s\tremaining: 3m 42s\n",
      "200:\ttest: 0.9538023\ttest1: 0.9470072\tbest: 0.9470072 (200)\ttotal: 18.9s\tremaining: 3m 35s\n",
      "300:\ttest: 0.9590641\ttest1: 0.9498718\tbest: 0.9498718 (300)\ttotal: 28.6s\tremaining: 3m 28s\n",
      "400:\ttest: 0.9628226\ttest1: 0.9522063\tbest: 0.9522866 (395)\ttotal: 38.1s\tremaining: 3m 19s\n",
      "500:\ttest: 0.9671914\ttest1: 0.9539860\tbest: 0.9541886 (493)\ttotal: 47.6s\tremaining: 3m 9s\n",
      "600:\ttest: 0.9702886\ttest1: 0.9556962\tbest: 0.9557180 (597)\ttotal: 57.6s\tremaining: 3m 1s\n",
      "700:\ttest: 0.9733965\ttest1: 0.9561188\tbest: 0.9562575 (676)\ttotal: 1m 7s\tremaining: 2m 52s\n",
      "800:\ttest: 0.9759548\ttest1: 0.9573856\tbest: 0.9573856 (800)\ttotal: 1m 16s\tremaining: 2m 42s\n",
      "900:\ttest: 0.9786437\ttest1: 0.9579972\tbest: 0.9581047 (867)\ttotal: 1m 26s\tremaining: 2m 33s\n",
      "1000:\ttest: 0.9806724\ttest1: 0.9583169\tbest: 0.9584289 (936)\ttotal: 1m 36s\tremaining: 2m 23s\n",
      "1100:\ttest: 0.9822393\ttest1: 0.9588909\tbest: 0.9588909 (1100)\ttotal: 1m 46s\tremaining: 2m 14s\n",
      "1200:\ttest: 0.9845149\ttest1: 0.9593919\tbest: 0.9593919 (1200)\ttotal: 1m 55s\tremaining: 2m 4s\n",
      "1300:\ttest: 0.9863107\ttest1: 0.9597374\tbest: 0.9597405 (1288)\ttotal: 2m 5s\tremaining: 1m 55s\n",
      "1400:\ttest: 0.9876717\ttest1: 0.9597455\tbest: 0.9598503 (1312)\ttotal: 2m 14s\tremaining: 1m 45s\n",
      "1500:\ttest: 0.9891040\ttest1: 0.9598525\tbest: 0.9599396 (1489)\ttotal: 2m 23s\tremaining: 1m 35s\n",
      "1600:\ttest: 0.9903370\ttest1: 0.9599414\tbest: 0.9601350 (1558)\ttotal: 2m 33s\tremaining: 1m 26s\n"
     ]
    },
    {
     "name": "stdout",
     "output_type": "stream",
     "text": [
      "1700:\ttest: 0.9914931\ttest1: 0.9598711\tbest: 0.9601350 (1558)\ttotal: 2m 43s\tremaining: 1m 16s\n",
      "1800:\ttest: 0.9925069\ttest1: 0.9601323\tbest: 0.9602003 (1797)\ttotal: 2m 52s\tremaining: 1m 7s\n",
      "1900:\ttest: 0.9933346\ttest1: 0.9602515\tbest: 0.9605734 (1862)\ttotal: 3m 2s\tremaining: 57.4s\n",
      "2000:\ttest: 0.9942289\ttest1: 0.9599849\tbest: 0.9605734 (1862)\ttotal: 3m 11s\tremaining: 47.8s\n",
      "2100:\ttest: 0.9950198\ttest1: 0.9605403\tbest: 0.9605734 (1862)\ttotal: 3m 21s\tremaining: 38.2s\n",
      "2200:\ttest: 0.9957451\ttest1: 0.9601649\tbest: 0.9607009 (2127)\ttotal: 3m 30s\tremaining: 28.7s\n",
      "2300:\ttest: 0.9962736\ttest1: 0.9599264\tbest: 0.9607009 (2127)\ttotal: 3m 40s\tremaining: 19.1s\n",
      "2400:\ttest: 0.9968000\ttest1: 0.9602311\tbest: 0.9607009 (2127)\ttotal: 3m 49s\tremaining: 9.48s\n",
      "2499:\ttest: 0.9972304\ttest1: 0.9601690\tbest: 0.9607009 (2127)\ttotal: 3m 59s\tremaining: 0us\n",
      "\n",
      "bestTest = 0.960700852\n",
      "bestIteration = 2127\n",
      "\n",
      "Shrink model to first 2128 iterations.\n",
      "[6.22098557e-04 3.50334136e-04 9.95854935e-05 ... 3.66546456e-04\n",
      " 4.26159524e-04 5.61253648e-03]\n",
      "0:\ttest: 0.6395626\ttest1: 0.6201671\tbest: 0.6201671 (0)\ttotal: 94.3ms\tremaining: 3m 55s\n",
      "100:\ttest: 0.9459354\ttest1: 0.9454101\tbest: 0.9456463 (96)\ttotal: 9.31s\tremaining: 3m 41s\n",
      "200:\ttest: 0.9562261\ttest1: 0.9486705\tbest: 0.9486705 (200)\ttotal: 18.7s\tremaining: 3m 34s\n",
      "300:\ttest: 0.9617586\ttest1: 0.9493059\tbest: 0.9494064 (288)\ttotal: 28.2s\tremaining: 3m 25s\n",
      "400:\ttest: 0.9656367\ttest1: 0.9501808\tbest: 0.9501808 (400)\ttotal: 37.8s\tremaining: 3m 17s\n",
      "500:\ttest: 0.9696823\ttest1: 0.9510899\tbest: 0.9513627 (470)\ttotal: 47.3s\tremaining: 3m 8s\n",
      "600:\ttest: 0.9732303\ttest1: 0.9510973\tbest: 0.9513627 (470)\ttotal: 56.8s\tremaining: 2m 59s\n",
      "700:\ttest: 0.9759106\ttest1: 0.9514581\tbest: 0.9516822 (667)\ttotal: 1m 6s\tremaining: 2m 49s\n",
      "800:\ttest: 0.9785160\ttest1: 0.9520703\tbest: 0.9521037 (748)\ttotal: 1m 15s\tremaining: 2m 40s\n",
      "900:\ttest: 0.9805934\ttest1: 0.9515456\tbest: 0.9521037 (748)\ttotal: 1m 25s\tremaining: 2m 31s\n",
      "1000:\ttest: 0.9826218\ttest1: 0.9514608\tbest: 0.9521037 (748)\ttotal: 1m 34s\tremaining: 2m 21s\n",
      "1100:\ttest: 0.9845336\ttest1: 0.9506513\tbest: 0.9521037 (748)\ttotal: 1m 44s\tremaining: 2m 12s\n",
      "Stopped by overfitting detector  (400 iterations wait)\n",
      "\n",
      "bestTest = 0.9521036705\n",
      "bestIteration = 748\n",
      "\n",
      "Shrink model to first 749 iterations.\n",
      "[0.02479298 0.00053599 0.00033385 ... 0.00443543 0.0014671  0.01420563]\n"
     ]
    }
   ],
   "source": [
    "results = []\n",
    "featureImp = []\n",
    "i = 0\n",
    "for train_index, test_index in gkf.split(train[trainOn], train[target]):\n",
    "    train_X = train.iloc[train_index][trainOn]\n",
    "    valid_X = train.iloc[test_index][trainOn]\n",
    "    train_y = train.iloc[train_index][target]\n",
    "    valid_y = train.iloc[test_index][target]\n",
    "    model = cbg.CatBoostClassifier(iterations=2500, eval_metric='AUC', random_state=1234567884, od_wait=400, colsample_bylevel=0.6, learning_rate=0.03)\n",
    "    model.fit(train_X, train_y,  eval_set= [(train_X, train_y), \n",
    "                                        (valid_X, valid_y)],\n",
    "                            verbose = 100, cat_features = catIndex)\n",
    "    valid_pred = model.predict_proba(valid_X)[:,1]\n",
    "    train_pred = model.predict_proba(train_X)[:,1]\n",
    "    trainRes = roc_auc_score(train_y, train_pred)\n",
    "    validRes = roc_auc_score(valid_y, valid_pred)\n",
    "    oof[test_index] = valid_pred\n",
    "    print(oof[test_index])\n",
    "    ootPred = model.predict_proba(test[trainOn])[:,1]\n",
    "    oot += ootPred / 5\n",
    "    results.append((trainRes, validRes))\n",
    "    fold_importance_df = pd.DataFrame()\n",
    "    fold_importance_df[\"feature\"] = trainOn\n",
    "    fold_importance_df[\"importance\"] = model.feature_importances_\n",
    "    fold_importance_df[\"fold\"] = i + 1\n",
    "    feature_importance_df = pd.concat([feature_importance_df, fold_importance_df], axis=0)\n",
    "    i+=1"
   ]
  },
  {
   "cell_type": "code",
   "execution_count": 29,
   "metadata": {},
   "outputs": [
    {
     "data": {
      "text/plain": [
       "array([0.02479298, 0.00053599, 0.00033385, ..., 0.00443543, 0.0014671 ,\n",
       "       0.01420563])"
      ]
     },
     "execution_count": 29,
     "metadata": {},
     "output_type": "execute_result"
    }
   ],
   "source": [
    "valid_pred"
   ]
  },
  {
   "cell_type": "code",
   "execution_count": 30,
   "metadata": {
    "scrolled": true
   },
   "outputs": [
    {
     "data": {
      "text/plain": [
       "{'Train Mean': 0.9892780065478082,\n",
       " 'Valid Mean': 0.9523504271287363,\n",
       " 'Train Std': 0.0068450048664522485,\n",
       " 'Valid Std': 0.00926864128649743}"
      ]
     },
     "execution_count": 30,
     "metadata": {},
     "output_type": "execute_result"
    }
   ],
   "source": [
    "getResultSummary(results)"
   ]
  },
  {
   "cell_type": "code",
   "execution_count": 31,
   "metadata": {},
   "outputs": [
    {
     "data": {
      "text/plain": [
       "[(0.9872505081279835, 0.96381868426701),\n",
       " (0.9958804339746401, 0.9382809484754921),\n",
       " (0.9909131730785403, 0.9468479803845657),\n",
       " (0.9952452034698254, 0.9607008520346908),\n",
       " (0.9771007140880517, 0.9521036704819227)]"
      ]
     },
     "execution_count": 31,
     "metadata": {},
     "output_type": "execute_result"
    }
   ],
   "source": [
    "results"
   ]
  },
  {
   "cell_type": "code",
   "execution_count": 32,
   "metadata": {
    "scrolled": false
   },
   "outputs": [
    {
     "data": {
      "image/png": "[encoded data removed]",
      "text/plain": [
       "<Figure size 576x720 with 1 Axes>"
      ]
     },
     "metadata": {
      "needs_background": "light"
     },
     "output_type": "display_data"
    }
   ],
   "source": [
    "display_importances(feature_importance_df)"
   ]
  },
  {
   "cell_type": "code",
   "execution_count": 33,
   "metadata": {},
   "outputs": [],
   "source": [
    "def saveStackingFile(prefix):\n",
    "    oof_ = pd.DataFrame(oof,columns = [prefix])\n",
    "    oot_ = pd.DataFrame(oot,columns = [prefix])\n",
    "    print(oof_.shape, oot_.shape)\n",
    "    oof_.to_csv(prefix + '_train.csv', index = False)\n",
    "    oot_.to_csv(prefix + '_test.csv', index = False)"
   ]
  },
  {
   "cell_type": "code",
   "execution_count": 34,
   "metadata": {},
   "outputs": [
    {
     "name": "stdout",
     "output_type": "stream",
     "text": [
      "(78369, 1) (50226, 1)\n"
     ]
    }
   ],
   "source": [
    "saveStackingFile('CGB_Feat5_All_Possible_Feats_5_Fold')"
   ]
  },
  {
   "cell_type": "code",
   "execution_count": null,
   "metadata": {},
   "outputs": [],
   "source": [
    "test[target] = oot"
   ]
  },
  {
   "cell_type": "code",
   "execution_count": null,
   "metadata": {},
   "outputs": [],
   "source": [
    "fileName = str(uuid.uuid4()).split('-')[-1]"
   ]
  },
  {
   "cell_type": "code",
   "execution_count": 121,
   "metadata": {},
   "outputs": [],
   "source": [
    "test[['id', target]].to_csv(fileName + '.csv', index = False)"
   ]
  },
  {
   "cell_type": "code",
   "execution_count": null,
   "metadata": {},
   "outputs": [],
   "source": []
  }
 ],
 "metadata": {
  "kernelspec": {
   "display_name": "Python 3",
   "language": "python",
   "name": "python3"
  },
  "language_info": {
   "codemirror_mode": {
    "name": "ipython",
    "version": 3
   },
   "file_extension": ".py",
   "mimetype": "text/x-python",
   "name": "python",
   "nbconvert_exporter": "python",
   "pygments_lexer": "ipython3",
   "version": "3.7.3"
  }
 },
 "nbformat": 4,
 "nbformat_minor": 2
}
