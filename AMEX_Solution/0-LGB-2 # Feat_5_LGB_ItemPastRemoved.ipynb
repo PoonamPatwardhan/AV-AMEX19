{
 "cells": [
  {
   "cell_type": "code",
   "execution_count": 1,
   "metadata": {
    "scrolled": true
   },
   "outputs": [],
   "source": [
    "import pandas as pd\n",
    "import warnings\n",
    "warnings.filterwarnings('ignore')\n",
    "import numpy as np\n",
    "import matplotlib.pyplot as plt\n",
    "from sklearn.metrics import roc_auc_score\n",
    "import xgboost\n",
    "from sklearn.model_selection import GroupKFold, KFold\n",
    "import uuid\n",
    "import seaborn as sns"
   ]
  },
  {
   "cell_type": "code",
   "execution_count": 2,
   "metadata": {},
   "outputs": [],
   "source": [
    "train  = pd.read_pickle('Feat5_119_oct_1_feats_train.pkl')\n",
    "test = pd.read_pickle('Feat5_119_oct_1_feats_test.pkl')"
   ]
  },
  {
   "cell_type": "code",
   "execution_count": 3,
   "metadata": {},
   "outputs": [],
   "source": [
    "#train.drop(['age_range','marital_status','rented','family_size','no_of_children','income_bracket'], axis = 1, inplace=True)\n",
    "#test.drop(['age_range','marital_status','rented','family_size','no_of_children','income_bracket'], axis = 1, inplace=True)"
   ]
  },
  {
   "cell_type": "code",
   "execution_count": 4,
   "metadata": {},
   "outputs": [],
   "source": [
    "# train['duration'] = train['duration'].dt.days\n",
    "# test['duration'] = test['duration'].dt.days"
   ]
  },
  {
   "cell_type": "code",
   "execution_count": 5,
   "metadata": {},
   "outputs": [],
   "source": [
    "campaignData = pd.read_csv('campaign_data.csv')\n",
    "campaignData['start_date'] = pd.to_datetime(campaignData['start_date'], format= '%d/%m/%y')\n",
    "campaignData['end_date'] = pd.to_datetime(campaignData['end_date'], format= '%d/%m/%y')\n",
    "campaignData = campaignData.sort_values(by = 'start_date')\n",
    "testCamp = test.campaign_id.unique()\n",
    "trainCamp = train.campaign_id.unique()\n",
    "campaignData['TrainOrTest'] = campaignData['campaign_id'].apply(lambda x : 'Train' if x in trainCamp else 'Test')"
   ]
  },
  {
   "cell_type": "code",
   "execution_count": 6,
   "metadata": {
    "scrolled": true
   },
   "outputs": [
    {
     "name": "stdout",
     "output_type": "stream",
     "text": [
      "<class 'pandas.core.frame.DataFrame'>\n",
      "Int64Index: 78369 entries, 0 to 78368\n",
      "Data columns (total 121 columns):\n",
      "id                               78369 non-null int64\n",
      "campaign_id                      78369 non-null int64\n",
      "coupon_id                        78369 non-null int64\n",
      "customer_id                      78369 non-null int64\n",
      "redemption_status                78369 non-null int64\n",
      "item_id_nunique                  78369 non-null int64\n",
      "item_id_mode                     78369 non-null int64\n",
      "quantity_mean                    78369 non-null float64\n",
      "quantity_nunique                 78369 non-null int64\n",
      "quantity_mode                    78369 non-null int64\n",
      "quantity_std                     78369 non-null float64\n",
      "quantity_max_                    78369 non-null int64\n",
      "selling_price_mean               78369 non-null float64\n",
      "selling_price_max_               78369 non-null float64\n",
      "selling_price_min_               78369 non-null float64\n",
      "selling_price_std                78369 non-null float64\n",
      "other_discount_mean              78369 non-null float64\n",
      "other_discount_max_              78369 non-null float64\n",
      "other_discount_min_              78369 non-null float64\n",
      "other_discount_std               78369 non-null float64\n",
      "coupon_discount_mean             78369 non-null float64\n",
      "coupon_discount_max_             78369 non-null float64\n",
      "coupon_discount_min_             78369 non-null float64\n",
      "coupon_discount_std              78369 non-null float64\n",
      "brand_nunique                    78369 non-null int64\n",
      "brand_mode                       78369 non-null int64\n",
      "brand_type_nunique               78369 non-null int64\n",
      "brand_type_mode                  78369 non-null object\n",
      "brand_type_category_nunique      78369 non-null int64\n",
      "brand_type_category_mode         78369 non-null object\n",
      "total_disc_mean                  78369 non-null float64\n",
      "total_disc_max_                  78369 non-null float64\n",
      "total_disc_min_                  78369 non-null float64\n",
      "total_disc_std                   78369 non-null float64\n",
      "Total_Bill_mean                  78369 non-null float64\n",
      "Total_Bill_max_                  78369 non-null float64\n",
      "Total_Bill_min_                  78369 non-null float64\n",
      "Total_Bill_std                   78369 non-null float64\n",
      "dayofweek_nunique                78369 non-null int64\n",
      "dayofweek_mode                   78369 non-null int64\n",
      "month_nunique                    78369 non-null int64\n",
      "month_mode                       78369 non-null int64\n",
      "is_monthEnd_mean                 78369 non-null float64\n",
      "is_monthStart_mean               78369 non-null float64\n",
      "disc_perc_mean                   78369 non-null float64\n",
      "disc_perc_max_                   78369 non-null float64\n",
      "disc_perc_min_                   78369 non-null float64\n",
      "disc_perc_std                    78369 non-null float64\n",
      "is_coupoun_disc_mean             78369 non-null float64\n",
      "is_coupoun_disc_sum              78369 non-null int64\n",
      "brand_category_nunique           78369 non-null int64\n",
      "brand_category_mode              78369 non-null object\n",
      "dayofmonth_nunique               78369 non-null int64\n",
      "dayofmonth_mode                  78369 non-null int64\n",
      "prev_int_count                   78369 non-null int64\n",
      "itemPastSellingMean              11794 non-null float64\n",
      "itemPastSellingStd               7228 non-null float64\n",
      "itemPastSellingMax               11794 non-null float64\n",
      "itemPastSellingMin               11794 non-null float64\n",
      "itemPastOtherMean                11794 non-null float64\n",
      "itemPastOtherStd                 7228 non-null float64\n",
      "itemPastOtherMax                 11794 non-null float64\n",
      "itemPastOtherMin                 11794 non-null float64\n",
      "itemPastCouponMean               11794 non-null float64\n",
      "itemPastCouponStd                7228 non-null float64\n",
      "itemPastCouponMax                11794 non-null float64\n",
      "itemPastCouponMin                11794 non-null float64\n",
      "itemPastCouponMean.1             11794 non-null float64\n",
      "itemPastCouponStd.1              7228 non-null float64\n",
      "itemPastCouponMax.1              11794 non-null float64\n",
      "itemPastCouponMin.1              11794 non-null float64\n",
      "itemPastTotalBillMean            11794 non-null float64\n",
      "itemPastTotalBillStd             7228 non-null float64\n",
      "itemPastTotalBillMax             11794 non-null float64\n",
      "itemPastTotalBillMin             11794 non-null float64\n",
      "nUniqueCust                      78369 non-null int64\n",
      "CoupounSize                      78369 non-null int64\n",
      "CoupSellingPriceMean             77113 non-null float64\n",
      "CoupSellingPriceStd              75942 non-null float64\n",
      "CoupSellingPriceMin              77113 non-null float64\n",
      "CoupSellingPriceMax              77113 non-null float64\n",
      "CoupCouponDiscMean               77113 non-null float64\n",
      "CoupCouponDiscStd                75942 non-null float64\n",
      "CoupCouponDiscMax                77113 non-null float64\n",
      "CoupCouponDiscMin                77113 non-null float64\n",
      "CoupOtherDiscMean                77113 non-null float64\n",
      "CoupOtherDiscStd                 75942 non-null float64\n",
      "CoupOtherDiscMax                 77113 non-null float64\n",
      "CoupOtherDiscMin                 77113 non-null float64\n",
      "CoupBrandMode                    77113 non-null float64\n",
      "CoupBrandTypeMode                77113 non-null object\n",
      "CoupFav8DayofWeek                77113 non-null float64\n",
      "CoupBrandNunique                 78369 non-null int64\n",
      "CoupBrandTypeNunique             78369 non-null int64\n",
      "CoupQuantMean                    77113 non-null float64\n",
      "CoupQuantStd                     75942 non-null float64\n",
      "CoupQuantMax                     77113 non-null float64\n",
      "CoupQuantMin                     77113 non-null float64\n",
      "CoupTotalDiscMean                77113 non-null float64\n",
      "CoupTotalDiscStd                 75942 non-null float64\n",
      "CoupTotalDiscMax                 77113 non-null float64\n",
      "CoupTotalDiscMin                 77113 non-null float64\n",
      "CoupTotalBillMean                77113 non-null float64\n",
      "CoupTotalBillStd                 75942 non-null float64\n",
      "CoupTotalBillMax                 77113 non-null float64\n",
      "CoupTotalBillMin                 77113 non-null float64\n",
      "CoupIsMonthEndMean               77113 non-null float64\n",
      "CoupIsMonthStartMean             77113 non-null float64\n",
      "age_range                        43661 non-null object\n",
      "marital_status                   25394 non-null object\n",
      "rented                           43661 non-null float64\n",
      "family_size                      43661 non-null float64\n",
      "no_of_children                   14056 non-null float64\n",
      "income_bracket                   43661 non-null float64\n",
      "age_approximated                 43661 non-null float64\n",
      "income_bucket_div_age            43661 non-null float64\n",
      "income_div_family_size           43661 non-null float64\n",
      "income_bucket_div_no_of_child    14056 non-null float64\n",
      "family_to_number_of_child        14056 non-null float64\n",
      "campaign_type                    78369 non-null object\n",
      "duration                         78369 non-null int64\n",
      "dtypes: float64(86), int64(28), object(7)\n",
      "memory usage: 72.9+ MB\n"
     ]
    }
   ],
   "source": [
    "train.info(max_cols= 200)"
   ]
  },
  {
   "cell_type": "code",
   "execution_count": 7,
   "metadata": {},
   "outputs": [],
   "source": [
    "target = 'redemption_status'\n",
    "cat = ['campaign_type', 'brand_type_mode', 'brand_type_category_mode', 'brand_category_mode', \n",
    "      'CoupBrandTypeMode', 'age_range', 'marital_status', 'income_bracket', 'family_size']"
   ]
  },
  {
   "cell_type": "code",
   "execution_count": 8,
   "metadata": {},
   "outputs": [],
   "source": [
    "All = train.append(test)"
   ]
  },
  {
   "cell_type": "code",
   "execution_count": 9,
   "metadata": {},
   "outputs": [],
   "source": [
    "def one_hot_encoder(df, nan_as_category = False):\n",
    "    original_columns = list(df.columns)\n",
    "    categorical_columns = cat\n",
    "    df = pd.get_dummies(df, columns= categorical_columns, dummy_na= nan_as_category)\n",
    "    new_columns = [c for c in df.columns if c not in original_columns]\n",
    "    return df, new_columns\n",
    "def display_importances(feature_importance_df_):\n",
    "    cols = feature_importance_df_[[\"feature\", \"importance\"]].groupby(\"feature\").mean().sort_values(by=\"importance\", ascending=False)[:40].index\n",
    "    best_features = feature_importance_df_.loc[feature_importance_df_.feature.isin(cols)]\n",
    "    plt.figure(figsize=(8, 10))\n",
    "    sns.barplot(x=\"importance\", y=\"feature\", data=best_features.sort_values(by=\"importance\", ascending=False))"
   ]
  },
  {
   "cell_type": "code",
   "execution_count": 10,
   "metadata": {},
   "outputs": [],
   "source": [
    "All, newCols = one_hot_encoder(All, nan_as_category=True)"
   ]
  },
  {
   "cell_type": "code",
   "execution_count": 11,
   "metadata": {},
   "outputs": [],
   "source": [
    "train = All[~All.redemption_status.isnull()]\n",
    "test = All[All.redemption_status.isnull()]"
   ]
  },
  {
   "cell_type": "code",
   "execution_count": 12,
   "metadata": {},
   "outputs": [],
   "source": [
    "toDrop = [x for x in train.columns if train[x].nunique() == 1]"
   ]
  },
  {
   "cell_type": "code",
   "execution_count": 13,
   "metadata": {},
   "outputs": [],
   "source": [
    "moreToDrop = [x for x in train.columns if x.startswith('itemPast')]"
   ]
  },
  {
   "cell_type": "code",
   "execution_count": 14,
   "metadata": {},
   "outputs": [],
   "source": [
    "notTrainOn = ['id', 'campaign_id']\n",
    "trainOn = [x for x in train.columns if (x not in notTrainOn ) & (x not in toDrop) & (x!=target) & (x not in moreToDrop)]"
   ]
  },
  {
   "cell_type": "code",
   "execution_count": 15,
   "metadata": {},
   "outputs": [],
   "source": [
    "gkf = KFold(n_splits=5)"
   ]
  },
  {
   "cell_type": "code",
   "execution_count": 16,
   "metadata": {},
   "outputs": [],
   "source": [
    "catIndex = [i for i,x in enumerate(trainOn) if x in cat]"
   ]
  },
  {
   "cell_type": "code",
   "execution_count": 17,
   "metadata": {},
   "outputs": [],
   "source": [
    "oof = np.zeros_like(train[target])\n",
    "oot = np.zeros_like(test['id']).astype('float')\n",
    "feature_importance_df = pd.DataFrame()"
   ]
  },
  {
   "cell_type": "code",
   "execution_count": null,
   "metadata": {},
   "outputs": [],
   "source": []
  },
  {
   "cell_type": "code",
   "execution_count": 18,
   "metadata": {},
   "outputs": [],
   "source": [
    "def getResultSummary(res):\n",
    "    trainMean = np.mean(list(map(lambda x : x[0], res)))\n",
    "    validMean = np.mean(list(map(lambda x : x[1], res)))\n",
    "    trainStd = np.std(list(map(lambda x : x[0], res)))\n",
    "    validStd = np.std(list(map(lambda x : x[1], res)))\n",
    "    return {\n",
    "        \n",
    "        'Train Mean' : trainMean, \n",
    "        'Valid Mean' : validMean, \n",
    "        'Train Std'  : trainStd,\n",
    "        'Valid Std'  : validStd\n",
    "    }"
   ]
  },
  {
   "cell_type": "code",
   "execution_count": 19,
   "metadata": {},
   "outputs": [],
   "source": [
    "import lightgbm as lgb"
   ]
  },
  {
   "cell_type": "code",
   "execution_count": 20,
   "metadata": {
    "scrolled": true
   },
   "outputs": [
    {
     "name": "stdout",
     "output_type": "stream",
     "text": [
      "Training until validation scores don't improve for 100 rounds\n",
      "Early stopping, best iteration is:\n",
      "[262]\ttraining's auc: 0.997566\tvalid_1's auc: 0.965581\n",
      "Training until validation scores don't improve for 100 rounds\n",
      "Early stopping, best iteration is:\n",
      "[695]\ttraining's auc: 0.999976\tvalid_1's auc: 0.949006\n",
      "Training until validation scores don't improve for 100 rounds\n",
      "Early stopping, best iteration is:\n",
      "[362]\ttraining's auc: 0.999271\tvalid_1's auc: 0.960465\n",
      "Training until validation scores don't improve for 100 rounds\n",
      "Early stopping, best iteration is:\n",
      "[450]\ttraining's auc: 0.999732\tvalid_1's auc: 0.963622\n",
      "Training until validation scores don't improve for 100 rounds\n",
      "Early stopping, best iteration is:\n",
      "[577]\ttraining's auc: 0.999943\tvalid_1's auc: 0.959409\n"
     ]
    }
   ],
   "source": [
    "results = []\n",
    "featureImp = []\n",
    "i = 0\n",
    "for train_index, test_index in gkf.split(train[trainOn], train[target]):\n",
    "    train_X = train.iloc[train_index][trainOn]\n",
    "    valid_X = train.iloc[test_index][trainOn]\n",
    "    train_y = train.iloc[train_index][target]\n",
    "    valid_y = train.iloc[test_index][target]\n",
    "    dtrain=lgb.Dataset(train_X,label=train_y)\n",
    "    dvalid=lgb.Dataset(valid_X,label=valid_y)\n",
    "    params=params={'min_data_in_leaf': 5,\n",
    "         'num_leaves': 41,\n",
    "         'learning_rate': 0.026711031423194934,\n",
    "         'min_child_weight': 0.005238908217059681,\n",
    "         'colsample_bytree': 0.6044632963222893,\n",
    "         'bagging_fraction': 0.24901399827744602,\n",
    "         'min_child_samples': 498.86413570776494,\n",
    "         'subsample': 0.3650581650899367,\n",
    "         'reg_lambda': 2.3120762445481233,\n",
    "         'reg_alpha': 2.7271177752726956,\n",
    "         'max_depth': 9,\n",
    "         'scale_pos_weight': 1,\n",
    "         'objective': 'binary',\n",
    "         'save_binary': True,\n",
    "         'seed': 124356432,\n",
    "         'feature_fraction_seed': 124356432,\n",
    "         'bagging_seed': 124356432,\n",
    "         'drop_seed': 124356432,\n",
    "         'data_random_seed': 1312435643237,\n",
    "         'boosting_type': 'gbdt',\n",
    "         'verbose': 1,\n",
    "         'boost_from_average': True,\n",
    "         'metric': 'auc'}\n",
    "    model=lgb.train(params,train_set=dtrain,\n",
    "                valid_sets=[dtrain,dvalid],\n",
    "                num_boost_round=100000, \n",
    "                verbose_eval=1000,\n",
    "                early_stopping_rounds=100)\n",
    "    valid_pred = model.predict(valid_X, num_iteration=model.best_iteration)\n",
    "    train_pred = model.predict(train_X, num_iteration=model.best_iteration)\n",
    "    \n",
    "    trainRes = roc_auc_score(train_y, train_pred)\n",
    "    validRes = roc_auc_score(valid_y, valid_pred)\n",
    "    \n",
    "    oof[test_index] = valid_pred\n",
    "    ootPred = model.predict(test[trainOn], num_iteration=model.best_iteration)\n",
    "    oot += ootPred / 5\n",
    "    results.append((trainRes, validRes))\n",
    "    fold_importance_df = pd.DataFrame()\n",
    "    fold_importance_df[\"feature\"] = trainOn\n",
    "    fold_importance_df[\"importance\"] = model.feature_importance()\n",
    "    fold_importance_df[\"fold\"] = i + 1\n",
    "    feature_importance_df = pd.concat([feature_importance_df, fold_importance_df], axis=0)\n",
    "    i+=1"
   ]
  },
  {
   "cell_type": "code",
   "execution_count": 21,
   "metadata": {
    "scrolled": true
   },
   "outputs": [
    {
     "data": {
      "text/plain": [
       "{'Train Mean': 0.9992976782900094,\n",
       " 'Valid Mean': 0.9596167952553735,\n",
       " 'Train Std': 0.0009014628334514933,\n",
       " 'Valid Std': 0.005743995477113157}"
      ]
     },
     "execution_count": 21,
     "metadata": {},
     "output_type": "execute_result"
    }
   ],
   "source": [
    "getResultSummary(results)"
   ]
  },
  {
   "cell_type": "code",
   "execution_count": 22,
   "metadata": {},
   "outputs": [
    {
     "data": {
      "text/plain": [
       "[(0.9975664488287255, 0.9655814015883236),\n",
       " (0.9999761512348274, 0.9490061752219219),\n",
       " (0.9992709924181697, 0.960465206654231),\n",
       " (0.9997316045282005, 0.963622126785954),\n",
       " (0.9999431944401234, 0.9594090660264372)]"
      ]
     },
     "execution_count": 22,
     "metadata": {},
     "output_type": "execute_result"
    }
   ],
   "source": [
    "results"
   ]
  },
  {
   "cell_type": "code",
   "execution_count": null,
   "metadata": {},
   "outputs": [],
   "source": []
  },
  {
   "cell_type": "code",
   "execution_count": 23,
   "metadata": {
    "scrolled": false
   },
   "outputs": [
    {
     "data": {
      "image/png": "[encoded data removed]",
      "text/plain": [
       "<Figure size 576x720 with 1 Axes>"
      ]
     },
     "metadata": {
      "needs_background": "light"
     },
     "output_type": "display_data"
    }
   ],
   "source": [
    "display_importances(feature_importance_df)"
   ]
  },
  {
   "cell_type": "code",
   "execution_count": 24,
   "metadata": {},
   "outputs": [
    {
     "name": "stdout",
     "output_type": "stream",
     "text": [
      "(78369, 1) (50226, 1)\n"
     ]
    }
   ],
   "source": [
    "def saveStackingFile(prefix):\n",
    "    oof_ = pd.DataFrame(oof,columns = [prefix])\n",
    "    oot_ = pd.DataFrame(oot,columns = [prefix])\n",
    "    print(oof_.shape, oot_.shape)\n",
    "    oof_.to_csv(prefix + '_train.csv', index = False)\n",
    "    oot_.to_csv(prefix + '_test.csv', index = False)\n",
    "\n",
    "saveStackingFile('Feat_5_LGB_ItemPast_Removed')"
   ]
  },
  {
   "cell_type": "code",
   "execution_count": 31,
   "metadata": {},
   "outputs": [],
   "source": [
    "test[target] = oot"
   ]
  },
  {
   "cell_type": "code",
   "execution_count": 32,
   "metadata": {},
   "outputs": [],
   "source": [
    "fileName = str(uuid.uuid4()).split('-')[-1]"
   ]
  },
  {
   "cell_type": "code",
   "execution_count": 33,
   "metadata": {},
   "outputs": [],
   "source": [
    "test[['id', target]].to_csv(fileName + '.csv', index = False)"
   ]
  },
  {
   "cell_type": "code",
   "execution_count": 34,
   "metadata": {},
   "outputs": [
    {
     "data": {
      "text/plain": [
       "[(0.9983059969422874, 0.963693031408743),\n",
       " (0.9993400993084018, 0.9412394064389553),\n",
       " (0.9945597678256932, 0.9592531734300028),\n",
       " (0.9992541979685, 0.9604732437892873),\n",
       " (0.9964612442259734, 0.963954213222701)]"
      ]
     },
     "execution_count": 34,
     "metadata": {},
     "output_type": "execute_result"
    }
   ],
   "source": [
    "results"
   ]
  },
  {
   "cell_type": "code",
   "execution_count": null,
   "metadata": {},
   "outputs": [],
   "source": []
  },
  {
   "cell_type": "code",
   "execution_count": null,
   "metadata": {},
   "outputs": [],
   "source": []
  }
 ],
 "metadata": {
  "kernelspec": {
   "display_name": "Python 3",
   "language": "python",
   "name": "python3"
  },
  "language_info": {
   "codemirror_mode": {
    "name": "ipython",
    "version": 3
   },
   "file_extension": ".py",
   "mimetype": "text/x-python",
   "name": "python",
   "nbconvert_exporter": "python",
   "pygments_lexer": "ipython3",
   "version": "3.7.3"
  }
 },
 "nbformat": 4,
 "nbformat_minor": 2
}
