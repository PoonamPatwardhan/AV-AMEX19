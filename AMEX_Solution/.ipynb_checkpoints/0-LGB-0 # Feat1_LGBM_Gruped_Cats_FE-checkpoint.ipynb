{
 "cells": [
  {
   "cell_type": "code",
   "execution_count": 1,
   "metadata": {
    "scrolled": true
   },
   "outputs": [],
   "source": [
    "import pandas as pd\n",
    "import warnings\n",
    "warnings.filterwarnings('ignore')\n",
    "import numpy as np\n",
    "import matplotlib.pyplot as plt\n",
    "from sklearn.metrics import roc_auc_score\n",
    "import xgboost\n",
    "from sklearn.model_selection import GroupKFold, KFold\n",
    "import uuid\n",
    "import seaborn as sns"
   ]
  },
  {
   "cell_type": "code",
   "execution_count": 3,
   "metadata": {},
   "outputs": [],
   "source": [
    "## Credits to Sahil Verma\n",
    "from encoding import FreqeuncyEncoding"
   ]
  },
  {
   "cell_type": "code",
   "execution_count": 3,
   "metadata": {},
   "outputs": [],
   "source": [
    "train  = pd.read_pickle('train_Sep_29_49Feats.pkl')\n",
    "test = pd.read_pickle('test_Sep_29_49Feats.pkl')"
   ]
  },
  {
   "cell_type": "code",
   "execution_count": 4,
   "metadata": {},
   "outputs": [],
   "source": [
    "#train.drop(['age_range','marital_status','rented','family_size','no_of_children','income_bracket'], axis = 1, inplace=True)\n",
    "#test.drop(['age_range','marital_status','rented','family_size','no_of_children','income_bracket'], axis = 1, inplace=True)"
   ]
  },
  {
   "cell_type": "code",
   "execution_count": 5,
   "metadata": {},
   "outputs": [],
   "source": [
    "train['duration'] = train['duration'].dt.days\n",
    "test['duration'] = test['duration'].dt.days"
   ]
  },
  {
   "cell_type": "code",
   "execution_count": 6,
   "metadata": {},
   "outputs": [],
   "source": [
    "campaignData = pd.read_csv('campaign_data.csv')\n",
    "campaignData['start_date'] = pd.to_datetime(campaignData['start_date'], format= '%d/%m/%y')\n",
    "campaignData['end_date'] = pd.to_datetime(campaignData['end_date'], format= '%d/%m/%y')\n",
    "campaignData = campaignData.sort_values(by = 'start_date')\n",
    "testCamp = test.campaign_id.unique()\n",
    "trainCamp = train.campaign_id.unique()\n",
    "campaignData['TrainOrTest'] = campaignData['campaign_id'].apply(lambda x : 'Train' if x in trainCamp else 'Test')"
   ]
  },
  {
   "cell_type": "code",
   "execution_count": 7,
   "metadata": {
    "scrolled": true
   },
   "outputs": [
    {
     "name": "stdout",
     "output_type": "stream",
     "text": [
      "<class 'pandas.core.frame.DataFrame'>\n",
      "Int64Index: 78369 entries, 0 to 78368\n",
      "Data columns (total 49 columns):\n",
      "id                              78369 non-null int64\n",
      "campaign_id                     78369 non-null int64\n",
      "coupon_id                       78369 non-null int64\n",
      "customer_id                     78369 non-null int64\n",
      "redemption_status               78369 non-null int64\n",
      "campaign_type                   78369 non-null object\n",
      "duration                        78369 non-null int64\n",
      "selling_price_mean              78369 non-null float64\n",
      "selling_price_max               78369 non-null float64\n",
      "selling_price_min               78369 non-null float64\n",
      "selling_price_std               78369 non-null float64\n",
      "other_discount_mean             78369 non-null float64\n",
      "other_discount_min              78369 non-null float64\n",
      "other_discount_std              78369 non-null float64\n",
      "coupon_disc_mean                78369 non-null float64\n",
      "coupon_disc_min                 78369 non-null float64\n",
      "coupon_disc_std                 78369 non-null float64\n",
      "item_id_nunique                 78369 non-null int64\n",
      "item_id_mode_cat                78369 non-null int64\n",
      "brand_mode_cat                  78369 non-null int64\n",
      "brand_nunique                   78369 non-null int64\n",
      "brand_type_nunique              78369 non-null int64\n",
      "brand_type_mode_cat             78369 non-null object\n",
      "category_mode_cat               78369 non-null object\n",
      "category_nunique                78369 non-null int64\n",
      "brand_type_category_mode_cat    78369 non-null object\n",
      "brand_type_category_nunique     78369 non-null int64\n",
      "quantity_mean                   78369 non-null float64\n",
      "quantity_max                    78369 non-null int64\n",
      "day_Of_Week_Mode                78369 non-null int64\n",
      "is_monthEnd_Mean                78369 non-null float64\n",
      "is_monthEnd_Mode                78369 non-null bool\n",
      "is_monthStart_Mean              78369 non-null float64\n",
      "is_monthStart_Mode              78369 non-null bool\n",
      "disc_perc_mean                  78369 non-null float64\n",
      "disc_perc_max                   78369 non-null float64\n",
      "disc_perc_min                   78369 non-null float64\n",
      "disc_perc_std                   78369 non-null float64\n",
      "is_coupoun_disc_Mean            78369 non-null float64\n",
      "is_coupoun_disc_Mode            78369 non-null bool\n",
      "brand_category_mode_cat         78369 non-null object\n",
      "brand_category_nunique          78369 non-null int64\n",
      "prev_int_count                  78369 non-null int64\n",
      "age_range                       43661 non-null object\n",
      "marital_status                  25394 non-null object\n",
      "rented                          43661 non-null float64\n",
      "family_size                     43661 non-null object\n",
      "no_of_children                  14056 non-null object\n",
      "income_bracket                  43661 non-null float64\n",
      "dtypes: bool(3), float64(20), int64(17), object(9)\n",
      "memory usage: 28.3+ MB\n"
     ]
    }
   ],
   "source": [
    "train.info(max_cols= 200)"
   ]
  },
  {
   "cell_type": "code",
   "execution_count": 8,
   "metadata": {},
   "outputs": [],
   "source": [
    "target = 'redemption_status'\n",
    "cat = ['campaign_type', 'brand_type_mode_cat', 'category_mode_cat', 'brand_type_category_mode_cat', \n",
    "      'brand_category_mode_cat', 'age_range', 'marital_status', 'family_size', 'no_of_children']"
   ]
  },
  {
   "cell_type": "code",
   "execution_count": 9,
   "metadata": {},
   "outputs": [],
   "source": [
    "cat = cat + [x for x in train.columns if x.endswith('cat')]"
   ]
  },
  {
   "cell_type": "code",
   "execution_count": 10,
   "metadata": {},
   "outputs": [],
   "source": [
    "cat = list(set(cat))"
   ]
  },
  {
   "cell_type": "code",
   "execution_count": 11,
   "metadata": {},
   "outputs": [
    {
     "data": {
      "text/plain": [
       "Index(['id', 'campaign_id', 'coupon_id', 'customer_id', 'redemption_status',\n",
       "       'campaign_type', 'duration', 'selling_price_mean', 'selling_price_max',\n",
       "       'selling_price_min', 'selling_price_std', 'other_discount_mean',\n",
       "       'other_discount_min', 'other_discount_std', 'coupon_disc_mean',\n",
       "       'coupon_disc_min', 'coupon_disc_std', 'item_id_nunique',\n",
       "       'item_id_mode_cat', 'brand_mode_cat', 'brand_nunique',\n",
       "       'brand_type_nunique', 'brand_type_mode_cat', 'category_mode_cat',\n",
       "       'category_nunique', 'brand_type_category_mode_cat',\n",
       "       'brand_type_category_nunique', 'quantity_mean', 'quantity_max',\n",
       "       'day_Of_Week_Mode', 'is_monthEnd_Mean', 'is_monthEnd_Mode',\n",
       "       'is_monthStart_Mean', 'is_monthStart_Mode', 'disc_perc_mean',\n",
       "       'disc_perc_max', 'disc_perc_min', 'disc_perc_std',\n",
       "       'is_coupoun_disc_Mean', 'is_coupoun_disc_Mode',\n",
       "       'brand_category_mode_cat', 'brand_category_nunique', 'prev_int_count',\n",
       "       'age_range', 'marital_status', 'rented', 'family_size',\n",
       "       'no_of_children', 'income_bracket'],\n",
       "      dtype='object')"
      ]
     },
     "execution_count": 11,
     "metadata": {},
     "output_type": "execute_result"
    }
   ],
   "source": [
    "train.columns"
   ]
  },
  {
   "cell_type": "code",
   "execution_count": 12,
   "metadata": {},
   "outputs": [],
   "source": [
    "numColsToGroupBy = ['duration', 'selling_price_mean', 'selling_price_max',\n",
    "       'selling_price_min', 'selling_price_std', 'other_discount_mean',\n",
    "       'other_discount_min', 'other_discount_std', 'coupon_disc_mean',\n",
    "       'coupon_disc_min'\n",
    "    ,'quantity_mean', 'quantity_max', 'is_monthEnd_Mean',\n",
    "       'is_monthStart_Mean', 'disc_perc_mean',\n",
    "       'is_coupoun_disc_Mean','prev_int_count']\n",
    "\n",
    "def level_1_group_by_feats(df,cat,num):\n",
    "    \n",
    "    ## Credits : Sahil Verma's Github\n",
    "    ## https://github.com/sahil711/AV/tree/master/Club%20Mahindra%20DataOlympics\n",
    "    \n",
    "    df[cat+'_'+num+'_mean']=df[cat].map(dict(df.groupby([cat])[num].mean()))\n",
    "    df[cat+'_'+num+'_std']=df[cat].map(dict(df.groupby([cat])[num].std()))\n",
    "    df[cat+'_'+num+'_mean_delta']=df[num]- df[cat+'_'+num+'_mean']\n",
    "    df[cat+'_'+num+'_mean_ratio']=df[num]/ (1+df[cat+'_'+num+'_mean'])\n",
    "    return df"
   ]
  },
  {
   "cell_type": "code",
   "execution_count": 13,
   "metadata": {},
   "outputs": [],
   "source": [
    "All = train.append(test)"
   ]
  },
  {
   "cell_type": "code",
   "execution_count": 14,
   "metadata": {},
   "outputs": [],
   "source": [
    "def one_hot_encoder(df, nan_as_category = False):\n",
    "    original_columns = list(df.columns)\n",
    "    categorical_columns = cat\n",
    "    df = pd.get_dummies(df, columns= categorical_columns, dummy_na= nan_as_category)\n",
    "    new_columns = [c for c in df.columns if c not in original_columns]\n",
    "    return df, new_columns\n",
    "def display_importances(feature_importance_df_):\n",
    "    cols = feature_importance_df_[[\"feature\", \"importance\"]].groupby(\"feature\").mean().sort_values(by=\"importance\", ascending=False)[:40].index\n",
    "    best_features = feature_importance_df_.loc[feature_importance_df_.feature.isin(cols)]\n",
    "    plt.figure(figsize=(8, 10))\n",
    "    sns.barplot(x=\"importance\", y=\"feature\", data=best_features.sort_values(by=\"importance\", ascending=False))"
   ]
  },
  {
   "cell_type": "code",
   "execution_count": 15,
   "metadata": {
    "scrolled": true
   },
   "outputs": [
    {
     "name": "stdout",
     "output_type": "stream",
     "text": [
      "187\n",
      "0\n",
      "1\n",
      "2\n",
      "3\n",
      "4\n",
      "5\n",
      "6\n",
      "7\n",
      "8\n",
      "9\n",
      "10\n",
      "11\n",
      "12\n",
      "13\n",
      "14\n",
      "15\n",
      "16\n",
      "17\n",
      "18\n",
      "19\n",
      "20\n",
      "21\n",
      "22\n",
      "23\n",
      "24\n",
      "25\n",
      "26\n",
      "27\n",
      "28\n",
      "29\n",
      "30\n",
      "31\n",
      "32\n",
      "33\n",
      "34\n",
      "35\n",
      "36\n",
      "37\n",
      "38\n",
      "39\n",
      "40\n",
      "41\n",
      "42\n",
      "43\n",
      "44\n",
      "45\n",
      "46\n",
      "47\n",
      "48\n",
      "49\n",
      "50\n",
      "51\n",
      "52\n",
      "53\n",
      "54\n",
      "55\n",
      "56\n",
      "57\n",
      "58\n",
      "59\n",
      "60\n",
      "61\n",
      "62\n",
      "63\n",
      "64\n",
      "65\n",
      "66\n",
      "67\n",
      "68\n",
      "69\n",
      "70\n",
      "71\n",
      "72\n",
      "73\n",
      "74\n",
      "75\n",
      "76\n",
      "77\n",
      "78\n",
      "79\n",
      "80\n",
      "81\n",
      "82\n",
      "83\n",
      "84\n",
      "85\n",
      "86\n",
      "87\n",
      "88\n",
      "89\n",
      "90\n",
      "91\n",
      "92\n",
      "93\n",
      "94\n",
      "95\n",
      "96\n",
      "97\n",
      "98\n",
      "99\n",
      "100\n",
      "101\n",
      "102\n",
      "103\n",
      "104\n",
      "105\n",
      "106\n",
      "107\n",
      "108\n",
      "109\n",
      "110\n",
      "111\n",
      "112\n",
      "113\n",
      "114\n",
      "115\n",
      "116\n",
      "117\n",
      "118\n",
      "119\n",
      "120\n",
      "121\n",
      "122\n",
      "123\n",
      "124\n",
      "125\n",
      "126\n",
      "127\n",
      "128\n",
      "129\n",
      "130\n",
      "131\n",
      "132\n",
      "133\n",
      "134\n",
      "135\n",
      "136\n",
      "137\n",
      "138\n",
      "139\n",
      "140\n",
      "141\n",
      "142\n",
      "143\n",
      "144\n",
      "145\n",
      "146\n",
      "147\n",
      "148\n",
      "149\n",
      "150\n",
      "151\n",
      "152\n",
      "153\n",
      "154\n",
      "155\n",
      "156\n",
      "157\n",
      "158\n",
      "159\n",
      "160\n",
      "161\n",
      "162\n",
      "163\n",
      "164\n",
      "165\n",
      "166\n",
      "167\n",
      "168\n",
      "169\n",
      "170\n",
      "171\n",
      "172\n",
      "173\n",
      "174\n",
      "175\n",
      "176\n",
      "177\n",
      "178\n",
      "179\n",
      "180\n",
      "181\n",
      "182\n",
      "183\n",
      "184\n",
      "185\n",
      "186\n"
     ]
    }
   ],
   "source": [
    "combos=[(a,b) for a in numColsToGroupBy for b in cat]\n",
    "print(len(combos))\n",
    "for i,combo in enumerate(combos):\n",
    "    All=level_1_group_by_feats(All,combo[1],combo[0])\n",
    "    print(i)"
   ]
  },
  {
   "cell_type": "code",
   "execution_count": 16,
   "metadata": {},
   "outputs": [],
   "source": [
    "#All, newCols = one_hot_encoder(All, nan_as_category=True)"
   ]
  },
  {
   "cell_type": "code",
   "execution_count": 17,
   "metadata": {},
   "outputs": [],
   "source": [
    "fe=FreqeuncyEncoding(categorical_columns=cat,normalize=False,return_df=True)\n",
    "All=fe.fit_transform(All)"
   ]
  },
  {
   "cell_type": "code",
   "execution_count": 18,
   "metadata": {},
   "outputs": [],
   "source": [
    "train = All[~All.redemption_status.isnull()]\n",
    "test = All[All.redemption_status.isnull()]"
   ]
  },
  {
   "cell_type": "code",
   "execution_count": null,
   "metadata": {},
   "outputs": [],
   "source": []
  },
  {
   "cell_type": "code",
   "execution_count": 19,
   "metadata": {},
   "outputs": [],
   "source": [
    "toDrop = [x for x in train.columns if train[x].nunique() == 1]"
   ]
  },
  {
   "cell_type": "code",
   "execution_count": 20,
   "metadata": {},
   "outputs": [],
   "source": [
    "notTrainOn = ['id', 'campaign_id']\n",
    "trainOn = [x for x in train.columns if (x not in notTrainOn ) & (x not in toDrop) & (x!=target)]"
   ]
  },
  {
   "cell_type": "code",
   "execution_count": 21,
   "metadata": {},
   "outputs": [],
   "source": [
    "gkf = KFold(n_splits=5)"
   ]
  },
  {
   "cell_type": "code",
   "execution_count": 22,
   "metadata": {},
   "outputs": [],
   "source": [
    "catIndex = [i for i,x in enumerate(trainOn) if x in cat]"
   ]
  },
  {
   "cell_type": "code",
   "execution_count": 23,
   "metadata": {},
   "outputs": [],
   "source": [
    "oof = np.zeros_like(train[target])\n",
    "oot = np.zeros_like(test['id']).astype('float')\n",
    "feature_importance_df = pd.DataFrame()"
   ]
  },
  {
   "cell_type": "code",
   "execution_count": 24,
   "metadata": {},
   "outputs": [],
   "source": [
    "def getResultSummary(res):\n",
    "    trainMean = np.mean(list(map(lambda x : x[0], res)))\n",
    "    validMean = np.mean(list(map(lambda x : x[1], res)))\n",
    "    trainStd = np.std(list(map(lambda x : x[0], res)))\n",
    "    validStd = np.std(list(map(lambda x : x[1], res)))\n",
    "    return {\n",
    "        \n",
    "        'Train Mean' : trainMean, \n",
    "        'Valid Mean' : validMean, \n",
    "        'Train Std'  : trainStd,\n",
    "        'Valid Std'  : validStd\n",
    "    }"
   ]
  },
  {
   "cell_type": "code",
   "execution_count": 25,
   "metadata": {},
   "outputs": [],
   "source": [
    "import lightgbm as lgb"
   ]
  },
  {
   "cell_type": "code",
   "execution_count": 26,
   "metadata": {
    "scrolled": true
   },
   "outputs": [
    {
     "name": "stdout",
     "output_type": "stream",
     "text": [
      "Training until validation scores don't improve for 100 rounds\n",
      "[1000]\ttraining's auc: 0.989074\tvalid_1's auc: 0.967151\n",
      "Early stopping, best iteration is:\n",
      "[1019]\ttraining's auc: 0.989284\tvalid_1's auc: 0.96729\n",
      "Training until validation scores don't improve for 100 rounds\n",
      "[1000]\ttraining's auc: 0.990753\tvalid_1's auc: 0.939712\n",
      "Early stopping, best iteration is:\n",
      "[1595]\ttraining's auc: 0.994198\tvalid_1's auc: 0.941479\n",
      "Training until validation scores don't improve for 100 rounds\n",
      "[1000]\ttraining's auc: 0.98871\tvalid_1's auc: 0.960815\n",
      "Early stopping, best iteration is:\n",
      "[1131]\ttraining's auc: 0.990088\tvalid_1's auc: 0.961131\n",
      "Training until validation scores don't improve for 100 rounds\n",
      "[1000]\ttraining's auc: 0.989387\tvalid_1's auc: 0.9665\n",
      "Early stopping, best iteration is:\n",
      "[1255]\ttraining's auc: 0.991516\tvalid_1's auc: 0.967313\n",
      "Training until validation scores don't improve for 100 rounds\n",
      "Early stopping, best iteration is:\n",
      "[744]\ttraining's auc: 0.986104\tvalid_1's auc: 0.968139\n"
     ]
    }
   ],
   "source": [
    "results = []\n",
    "featureImp = []\n",
    "i = 0\n",
    "for train_index, test_index in gkf.split(train[trainOn], train[target]):\n",
    "    train_X = train.iloc[train_index][trainOn]\n",
    "    valid_X = train.iloc[test_index][trainOn]\n",
    "    train_y = train.iloc[train_index][target]\n",
    "    valid_y = train.iloc[test_index][target]\n",
    "    dtrain=lgb.Dataset(train_X,label=train_y)\n",
    "    dvalid=lgb.Dataset(valid_X,label=valid_y)\n",
    "    params=params={'min_data_in_leaf': 5,\n",
    "         'num_leaves': 8,\n",
    "         'learning_rate': 0.026711031423194934,\n",
    "         'min_child_weight': 0.005238908217059681,\n",
    "         'colsample_bytree': 0.6044632963222893,\n",
    "         'bagging_fraction': 0.24901399827744602,\n",
    "         'min_child_samples': 498.86413570776494,\n",
    "         'subsample': 0.3650581650899367,\n",
    "         'reg_lambda': 2.3120762445481233,\n",
    "         'reg_alpha': 2.7271177752726956,\n",
    "         'max_depth': 3,\n",
    "         'scale_pos_weight': 1,\n",
    "         'objective': 'binary',\n",
    "         'save_binary': True,\n",
    "         'seed': 1337,\n",
    "         'feature_fraction_seed': 1337,\n",
    "         'bagging_seed': 1337,\n",
    "         'drop_seed': 1337,\n",
    "         'data_random_seed': 1337,\n",
    "         'boosting_type': 'gbdt',\n",
    "         'verbose': 1,\n",
    "         'boost_from_average': True,\n",
    "         'metric': 'auc'}\n",
    "    model=lgb.train(params,train_set=dtrain,\n",
    "                valid_sets=[dtrain,dvalid],\n",
    "                num_boost_round=100000, \n",
    "                verbose_eval=1000,\n",
    "                early_stopping_rounds=100)\n",
    "    valid_pred = model.predict(valid_X, num_iteration=model.best_iteration)\n",
    "    train_pred = model.predict(train_X, num_iteration=model.best_iteration)\n",
    "    \n",
    "    trainRes = roc_auc_score(train_y, train_pred)\n",
    "    validRes = roc_auc_score(valid_y, valid_pred)\n",
    "    \n",
    "    oof[test_index] = valid_pred\n",
    "    ootPred = model.predict(test[trainOn], num_iteration=model.best_iteration)\n",
    "    oot += ootPred / 5\n",
    "    results.append((trainRes, validRes))\n",
    "    fold_importance_df = pd.DataFrame()\n",
    "    fold_importance_df[\"feature\"] = trainOn\n",
    "    fold_importance_df[\"importance\"] = model.feature_importance()\n",
    "    fold_importance_df[\"fold\"] = i + 1\n",
    "    feature_importance_df = pd.concat([feature_importance_df, fold_importance_df], axis=0)\n",
    "    i+=1"
   ]
  },
  {
   "cell_type": "code",
   "execution_count": 27,
   "metadata": {
    "scrolled": true
   },
   "outputs": [
    {
     "data": {
      "text/plain": [
       "{'Train Mean': 0.9902379483670327,\n",
       " 'Valid Mean': 0.9610706655535664,\n",
       " 'Train Std': 0.002658460928321468,\n",
       " 'Valid Std': 0.010113763839124072}"
      ]
     },
     "execution_count": 27,
     "metadata": {},
     "output_type": "execute_result"
    }
   ],
   "source": [
    "getResultSummary(results)"
   ]
  },
  {
   "cell_type": "code",
   "execution_count": 28,
   "metadata": {
    "scrolled": false
   },
   "outputs": [
    {
     "data": {
      "image/png": "[encoded data removed]",
      "text/plain": [
       "<Figure size 576x720 with 1 Axes>"
      ]
     },
     "metadata": {
      "needs_background": "light"
     },
     "output_type": "display_data"
    }
   ],
   "source": [
    "display_importances(feature_importance_df)"
   ]
  },
  {
   "cell_type": "code",
   "execution_count": 29,
   "metadata": {},
   "outputs": [],
   "source": [
    "def saveStackingFile(prefix):\n",
    "    oof_ = pd.DataFrame(oof,columns = [prefix])\n",
    "    oot_ = pd.DataFrame(oot,columns = [prefix])\n",
    "    print(oof_.shape, oot_.shape)\n",
    "    oof_.to_csv(prefix + '_train.csv', index = False)\n",
    "    oot_.to_csv(prefix + '_test.csv', index = False)"
   ]
  },
  {
   "cell_type": "code",
   "execution_count": 30,
   "metadata": {},
   "outputs": [
    {
     "name": "stdout",
     "output_type": "stream",
     "text": [
      "(78369, 1) (50226, 1)\n"
     ]
    }
   ],
   "source": [
    "saveStackingFile('Feat1_LGBM_Gruped_Cats_FE')"
   ]
  },
  {
   "cell_type": "code",
   "execution_count": 35,
   "metadata": {},
   "outputs": [],
   "source": [
    "test[target] = oot"
   ]
  },
  {
   "cell_type": "code",
   "execution_count": 33,
   "metadata": {},
   "outputs": [],
   "source": [
    "fileName = str(uuid.uuid4()).split('-')[-1]"
   ]
  },
  {
   "cell_type": "code",
   "execution_count": 34,
   "metadata": {},
   "outputs": [],
   "source": [
    "test[['id', target]].to_csv(fileName + '.csv', index = False)"
   ]
  },
  {
   "cell_type": "code",
   "execution_count": 35,
   "metadata": {},
   "outputs": [
    {
     "data": {
      "text/plain": [
       "[(0.9882174030910144, 0.9664683497889389),\n",
       " (0.9954720439683338, 0.9424334434902869),\n",
       " (0.9886795761419785, 0.9606190021586363),\n",
       " (0.9901786183522268, 0.9673844638782995),\n",
       " (0.9844076174850324, 0.9682027263473115)]"
      ]
     },
     "execution_count": 35,
     "metadata": {},
     "output_type": "execute_result"
    }
   ],
   "source": [
    "results"
   ]
  },
  {
   "cell_type": "code",
   "execution_count": null,
   "metadata": {},
   "outputs": [],
   "source": []
  }
 ],
 "metadata": {
  "kernelspec": {
   "display_name": "Python 3",
   "language": "python",
   "name": "python3"
  },
  "language_info": {
   "codemirror_mode": {
    "name": "ipython",
    "version": 3
   },
   "file_extension": ".py",
   "mimetype": "text/x-python",
   "name": "python",
   "nbconvert_exporter": "python",
   "pygments_lexer": "ipython3",
   "version": "3.7.3"
  }
 },
 "nbformat": 4,
 "nbformat_minor": 2
}
