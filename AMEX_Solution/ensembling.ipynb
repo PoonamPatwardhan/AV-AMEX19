{
 "cells": [
  {
   "cell_type": "code",
   "execution_count": 11,
   "metadata": {},
   "outputs": [],
   "source": [
    "import pandas as pd\n",
    "import numpy as np\n",
    "import matplotlib.pyplot as plt\n",
    "import os\n",
    "from keras.models import Sequential\n",
    "from keras.layers import Dense, Activation, Dropout\n",
    "import keras\n",
    "from keras.optimizers import SGD, Adam"
   ]
  },
  {
   "cell_type": "code",
   "execution_count": 12,
   "metadata": {},
   "outputs": [],
   "source": [
    "lst = os.listdir()"
   ]
  },
  {
   "cell_type": "code",
   "execution_count": 13,
   "metadata": {},
   "outputs": [],
   "source": [
    "train_Files = [x for x in lst if x.endswith('_train.csv')]\n",
    "test_Files = [x for x in lst if x.endswith('_test.csv')]"
   ]
  },
  {
   "cell_type": "code",
   "execution_count": 14,
   "metadata": {
    "scrolled": true
   },
   "outputs": [],
   "source": [
    "files = [x[:-10] for x in train_Files]"
   ]
  },
  {
   "cell_type": "code",
   "execution_count": 15,
   "metadata": {},
   "outputs": [],
   "source": [
    "files = [x for x in files if 'XGB' not in x]"
   ]
  },
  {
   "cell_type": "code",
   "execution_count": 16,
   "metadata": {},
   "outputs": [
    {
     "data": {
      "text/plain": [
       "['Feat1_LGBM_Gruped_Cats_FE',\n",
       " 'CGB_Feat5_All_Possible_Feats_5_Fold',\n",
       " 'Feat_5_LGB_ItemPast_Removed',\n",
       " 'CGB_Feat5_Extra_Past_Item_5_Fold',\n",
       " 'LOGITLEVEL1',\n",
       " 'Feat_5_LGB_Coup_Removed_1337',\n",
       " 'NN_level1']"
      ]
     },
     "execution_count": 16,
     "metadata": {},
     "output_type": "execute_result"
    }
   ],
   "source": [
    "files"
   ]
  },
  {
   "cell_type": "code",
   "execution_count": 17,
   "metadata": {},
   "outputs": [],
   "source": [
    "Group1 = ['NN_level1', \n",
    "         'LOGITLEVEL1']"
   ]
  },
  {
   "cell_type": "code",
   "execution_count": null,
   "metadata": {},
   "outputs": [],
   "source": []
  },
  {
   "cell_type": "code",
   "execution_count": null,
   "metadata": {},
   "outputs": [],
   "source": []
  },
  {
   "cell_type": "code",
   "execution_count": 18,
   "metadata": {},
   "outputs": [],
   "source": [
    "group1Tup = [(x + '_train.csv', x + '_test.csv') for x in Group1]"
   ]
  },
  {
   "cell_type": "code",
   "execution_count": 19,
   "metadata": {},
   "outputs": [],
   "source": [
    "for x,y in group1Tup:\n",
    "    assert x in train_Files\n",
    "    assert y in test_Files"
   ]
  },
  {
   "cell_type": "code",
   "execution_count": 20,
   "metadata": {},
   "outputs": [],
   "source": [
    "trainGroup1DF = pd.DataFrame()\n",
    "testGroup1DF = pd.DataFrame()\n",
    "for trainCol, testCol in group1Tup:\n",
    "    temp = pd.read_csv(trainCol)\n",
    "    trainGroup1DF = pd.concat([trainGroup1DF, temp],axis = 1)\n",
    "    temp = pd.read_csv(testCol)\n",
    "    testGroup1DF = pd.concat([testGroup1DF, temp],axis = 1)"
   ]
  },
  {
   "cell_type": "code",
   "execution_count": 21,
   "metadata": {},
   "outputs": [
    {
     "data": {
      "text/plain": [
       "((78369, 2), (50226, 2))"
      ]
     },
     "execution_count": 21,
     "metadata": {},
     "output_type": "execute_result"
    }
   ],
   "source": [
    "trainGroup1DF.shape, testGroup1DF.shape"
   ]
  },
  {
   "cell_type": "code",
   "execution_count": 22,
   "metadata": {},
   "outputs": [],
   "source": [
    "trainCols = set(trainGroup1DF.columns).intersection(testGroup1DF.columns)"
   ]
  },
  {
   "cell_type": "code",
   "execution_count": 23,
   "metadata": {},
   "outputs": [],
   "source": [
    "## Loading Orig Labels \n",
    "\n",
    "train = pd.read_csv('train.csv')\n",
    "trainGroup1DF['redemption_status'] = train.redemption_status"
   ]
  },
  {
   "cell_type": "code",
   "execution_count": 24,
   "metadata": {},
   "outputs": [],
   "source": [
    "origTest = pd.read_csv('test_QyjYwdj.csv')"
   ]
  },
  {
   "cell_type": "code",
   "execution_count": 25,
   "metadata": {},
   "outputs": [],
   "source": [
    "test_XG = pd.read_csv('XGB_0.02_0.8_17_Feat_5_label_encoding_Coup_Removed_test.csv')"
   ]
  },
  {
   "cell_type": "code",
   "execution_count": 26,
   "metadata": {},
   "outputs": [],
   "source": [
    "oot = 0.1 * testGroup1DF['LOGITLEVEL1'] +  0.1 * testGroup1DF['NN_level1']+ 0.8* test_XG['XGB_0.02_0.8_17_Feat_5_label_encoding_Coup_Removed']"
   ]
  },
  {
   "cell_type": "code",
   "execution_count": 27,
   "metadata": {},
   "outputs": [],
   "source": [
    "origTest['redemption_status'] = oot\n",
    "\n",
    "origTest[['id', 'redemption_status']].to_csv('OOT_ENSEMBLE_AVGD.csv', index = False)"
   ]
  },
  {
   "cell_type": "code",
   "execution_count": null,
   "metadata": {},
   "outputs": [],
   "source": []
  }
 ],
 "metadata": {
  "kernelspec": {
   "display_name": "Python 3",
   "language": "python",
   "name": "python3"
  },
  "language_info": {
   "codemirror_mode": {
    "name": "ipython",
    "version": 3
   },
   "file_extension": ".py",
   "mimetype": "text/x-python",
   "name": "python",
   "nbconvert_exporter": "python",
   "pygments_lexer": "ipython3",
   "version": "3.7.3"
  }
 },
 "nbformat": 4,
 "nbformat_minor": 2
}
